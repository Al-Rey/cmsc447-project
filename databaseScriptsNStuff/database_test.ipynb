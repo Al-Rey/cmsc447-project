{
  "nbformat": 4,
  "nbformat_minor": 0,
  "metadata": {
    "colab": {
      "provenance": []
    },
    "kernelspec": {
      "name": "python3",
      "display_name": "Python 3"
    },
    "language_info": {
      "name": "python"
    }
  },
  "cells": [
    {
      "cell_type": "code",
      "execution_count": 2,
      "metadata": {
        "colab": {
          "base_uri": "https://localhost:8080/"
        },
        "id": "GDET02djwVD4",
        "outputId": "02cb948d-312c-4f23-8510-4be6954cebc4"
      },
      "outputs": [
        {
          "output_type": "stream",
          "name": "stdout",
          "text": [
            "Looking in indexes: https://pypi.org/simple, https://us-python.pkg.dev/colab-wheels/public/simple/\n",
            "Collecting mysql.connector\n",
            "  Downloading mysql-connector-2.2.9.tar.gz (11.9 MB)\n",
            "\u001b[K     |████████████████████████████████| 11.9 MB 4.4 MB/s \n",
            "\u001b[?25hBuilding wheels for collected packages: mysql.connector\n",
            "  Building wheel for mysql.connector (setup.py) ... \u001b[?25l\u001b[?25hdone\n",
            "  Created wheel for mysql.connector: filename=mysql_connector-2.2.9-cp38-cp38-linux_x86_64.whl size=247965 sha256=5bcec1745c18aa26d291efd363e4d2adad30ad864e96c9fa41382612114ae389\n",
            "  Stored in directory: /root/.cache/pip/wheels/57/e4/98/5feafb5c393dd2540e44b064a6f95832990d543e5b4f53ea8f\n",
            "Successfully built mysql.connector\n",
            "Installing collected packages: mysql.connector\n",
            "Successfully installed mysql.connector-2.2.9\n"
          ]
        }
      ],
      "source": [
        "!pip install mysql.connector"
      ]
    },
    {
      "cell_type": "code",
      "source": [
        "import mysql.connector\n",
        "from mysql.connector import (connection)"
      ],
      "metadata": {
        "id": "tMlykPxFwbCm"
      },
      "execution_count": 3,
      "outputs": []
    },
    {
      "cell_type": "code",
      "source": [
        "#connects to db\n",
        "db = connection.MySQLConnection(user='admin', password='CoolPassword123',\n",
        "                                 host='pokemon-db-instance.ckqgjzzgubut.us-east-1.rds.amazonaws.com',\n",
        "                                 database='pokemon_database')"
      ],
      "metadata": {
        "id": "Daor-oYnwdYD"
      },
      "execution_count": 4,
      "outputs": []
    },
    {
      "cell_type": "code",
      "source": [
        "#object to allow sql query\n",
        "cur = db.cursor()"
      ],
      "metadata": {
        "id": "Vf48EGP8we24"
      },
      "execution_count": 5,
      "outputs": []
    },
    {
      "cell_type": "code",
      "source": [
        "#selects first 10 pokemon to display\n",
        "select_pokemon_query = \"SELECT * FROM pokemon LIMIT 10\"\n",
        "\n",
        "cur.execute(select_pokemon_query)\n",
        "result = cur.fetchall()\n",
        "for row in result:\n",
        "  print(row)"
      ],
      "metadata": {
        "colab": {
          "base_uri": "https://localhost:8080/"
        },
        "id": "T9DsOvTnwhcj",
        "outputId": "169dffac-e702-4251-c5c2-7919ff24dc2d"
      },
      "execution_count": 6,
      "outputs": [
        {
          "output_type": "stream",
          "name": "stdout",
          "text": [
            "(0, 'bulbasaur', 1, 49, 65, 49, 65, 45, 45, 'grass', 'poison', \"[('razor-wind', 'egg'), ('swords-dance', 'machine'), ('cut', 'machine'), ('bind', 'tutor'), ('vine-whip', 9), ('headbutt', 'tutor'), ('tackle', 1), ('body-slam', 'tutor'), ('take-down', 15), ('double-edge', 27), ('growl', 3), ('strength', 'machine'), ('mega-drain', 'machine'), ('leech-seed', 7), ('growth', 25), ('razor-leaf', 19), ('solar-beam', 'machine'), ('poison-powder', 13), ('sleep-powder', 13), ('petal-dance', 'egg'), ('string-shot', 'tutor'), ('toxic', 'machine'), ('rage', 'machine'), ('mimic', 'tutor'), ('double-team', 'machine'), ('defense-curl', 'tutor'), ('light-screen', 'machine'), ('reflect', 'machine'), ('bide', 'machine'), ('sludge', 'egg'), ('skull-bash', 'egg'), ('amnesia', 'egg'), ('flash', 'machine'), ('rest', 'machine'), ('substitute', 'machine'), ('snore', 'tutor'), ('curse', 'egg'), ('protect', 'machine'), ('sludge-bomb', 'machine'), ('mud-slap', 'tutor'), ('giga-drain', 'tutor'), ('endure', 'egg'), ('charm', 'egg'), ('swagger', 'machine'), ('fury-cutter', 'tutor'), ('attract', 'machine'), ('sleep-talk', 'machine'), ('return', 'machine'), ('frustration', 'machine'), ('safeguard', 'machine'), ('sweet-scent', 21), ('synthesis', 'tutor'), ('hidden-power', 'machine'), ('sunny-day', 'machine'), ('rock-smash', 'machine'), ('facade', 'machine'), ('nature-power', 'machine'), ('ingrain', 'egg'), ('knock-off', 'tutor'), ('secret-power', 'machine'), ('grass-whistle', 'egg'), ('bullet-seed', 'machine'), ('magical-leaf', 'egg'), ('natural-gift', 'machine'), ('worry-seed', 'tutor'), ('seed-bomb', 'tutor'), ('energy-ball', 'machine'), ('leaf-storm', 'egg'), ('power-whip', 'egg'), ('captivate', 'machine'), ('grass-knot', 'machine'), ('venoshock', 'machine'), ('round', 'machine'), ('echoed-voice', 'machine'), ('grass-pledge', 'tutor')]\", \"[('overgrow', False), ('chlorophyll', True)]\", 7, 69, 1, \"[('bulbasaur', '', 0), ('ivysaur', 'level-up(16)', 1), ('venusaur', 'level-up(32)', 2)]\")\n",
            "(1, 'ivysaur', 2, 62, 80, 63, 80, 60, 60, 'grass', 'poison', \"[('swords-dance', 'machine'), ('cut', 'machine'), ('bind', 'tutor'), ('vine-whip', 9), ('headbutt', 'tutor'), ('tackle', 1), ('body-slam', 'tutor'), ('take-down', 15), ('double-edge', 31), ('growl', 3), ('strength', 'machine'), ('mega-drain', 'machine'), ('leech-seed', 7), ('growth', 28), ('razor-leaf', 20), ('solar-beam', 'machine'), ('poison-powder', 13), ('sleep-powder', 13), ('string-shot', 'tutor'), ('toxic', 'machine'), ('rage', 'machine'), ('mimic', 'tutor'), ('double-team', 'machine'), ('defense-curl', 'tutor'), ('light-screen', 'machine'), ('reflect', 'machine'), ('bide', 'machine'), ('flash', 'machine'), ('rest', 'machine'), ('substitute', 'machine'), ('snore', 'tutor'), ('curse', 'machine'), ('protect', 'machine'), ('sludge-bomb', 'machine'), ('mud-slap', 'tutor'), ('giga-drain', 'tutor'), ('endure', 'machine'), ('swagger', 'machine'), ('fury-cutter', 'tutor'), ('attract', 'machine'), ('sleep-talk', 'machine'), ('return', 'machine'), ('frustration', 'machine'), ('safeguard', 'machine'), ('sweet-scent', 23), ('synthesis', 'tutor'), ('hidden-power', 'machine'), ('sunny-day', 'machine'), ('rock-smash', 'machine'), ('facade', 'machine'), ('nature-power', 'machine'), ('knock-off', 'tutor'), ('secret-power', 'machine'), ('bullet-seed', 'machine'), ('natural-gift', 'machine'), ('worry-seed', 'tutor'), ('seed-bomb', 'tutor'), ('energy-ball', 'machine'), ('captivate', 'machine'), ('grass-knot', 'machine'), ('venoshock', 'machine'), ('round', 'machine'), ('echoed-voice', 'machine'), ('grass-pledge', 'tutor')]\", \"[('overgrow', False), ('chlorophyll', True)]\", 10, 130, 1, \"[('bulbasaur', '', 0), ('ivysaur', 'level-up(16)', 1), ('venusaur', 'level-up(32)', 2)]\")\n",
            "(2, 'venusaur', 3, 82, 100, 83, 100, 80, 80, 'grass', 'poison', \"[('swords-dance', 'machine'), ('cut', 'machine'), ('bind', 'tutor'), ('vine-whip', 9), ('headbutt', 'tutor'), ('tackle', 1), ('body-slam', 'tutor'), ('take-down', 15), ('double-edge', 31), ('growl', 3), ('roar', 'machine'), ('hyper-beam', 'machine'), ('strength', 'machine'), ('mega-drain', 'machine'), ('leech-seed', 7), ('growth', 28), ('razor-leaf', 20), ('solar-beam', 'machine'), ('poison-powder', 13), ('sleep-powder', 13), ('petal-dance', 32), ('string-shot', 'tutor'), ('earthquake', 'machine'), ('toxic', 'machine'), ('rage', 'machine'), ('mimic', 'tutor'), ('double-team', 'machine'), ('defense-curl', 'tutor'), ('light-screen', 'machine'), ('reflect', 'machine'), ('bide', 'machine'), ('flash', 'machine'), ('rest', 'machine'), ('substitute', 'machine'), ('snore', 'tutor'), ('curse', 'machine'), ('protect', 'machine'), ('sludge-bomb', 'machine'), ('mud-slap', 'tutor'), ('outrage', 'tutor'), ('giga-drain', 'tutor'), ('endure', 'machine'), ('swagger', 'machine'), ('fury-cutter', 'tutor'), ('attract', 'machine'), ('sleep-talk', 'machine'), ('return', 'machine'), ('frustration', 'machine'), ('safeguard', 'machine'), ('sweet-scent', 23), ('synthesis', 'tutor'), ('hidden-power', 'machine'), ('sunny-day', 'machine'), ('rock-smash', 'machine'), ('facade', 'machine'), ('nature-power', 'machine'), ('knock-off', 'tutor'), ('secret-power', 'machine'), ('bullet-seed', 'machine'), ('block', 'tutor'), ('frenzy-plant', 'tutor'), ('natural-gift', 'machine'), ('worry-seed', 'tutor'), ('seed-bomb', 'tutor'), ('energy-ball', 'machine'), ('giga-impact', 'machine'), ('rock-climb', 'machine'), ('captivate', 'machine'), ('grass-knot', 'machine'), ('venoshock', 'machine'), ('round', 'machine'), ('echoed-voice', 'machine'), ('grass-pledge', 'tutor'), ('bulldoze', 'machine')]\", \"[('overgrow', False), ('chlorophyll', True)]\", 20, 1000, 1, \"[('bulbasaur', '', 0), ('ivysaur', 'level-up(16)', 1), ('venusaur', 'level-up(32)', 2)]\")\n",
            "(3, 'charmander', 4, 52, 60, 43, 50, 65, 39, 'fire', 'fire', \"[('mega-punch', 'tutor'), ('fire-punch', 'tutor'), ('thunder-punch', 'tutor'), ('scratch', 1), ('swords-dance', 'machine'), ('cut', 'machine'), ('mega-kick', 'tutor'), ('headbutt', 'tutor'), ('body-slam', 'tutor'), ('take-down', 'machine'), ('double-edge', 'tutor'), ('leer', 15), ('bite', 'egg'), ('growl', 1), ('ember', 7), ('flamethrower', 'machine'), ('submission', 'machine'), ('counter', 'egg'), ('seismic-toss', 'tutor'), ('strength', 'machine'), ('dragon-rage', 16), ('fire-spin', 43), ('dig', 'machine'), ('toxic', 'machine'), ('rage', 19), ('mimic', 'tutor'), ('double-team', 'machine'), ('smokescreen', 10), ('defense-curl', 'tutor'), ('reflect', 'machine'), ('bide', 'machine'), ('fire-blast', 'machine'), ('swift', 'tutor'), ('skull-bash', 'machine'), ('rest', 'machine'), ('rock-slide', 'machine'), ('slash', 34), ('substitute', 'machine'), ('snore', 'tutor'), ('curse', 'machine'), ('protect', 'machine'), ('scary-face', 19), ('belly-drum', 'egg'), ('mud-slap', 'tutor'), ('outrage', 'egg'), ('endure', 'machine'), ('swagger', 'machine'), ('fury-cutter', 'tutor'), ('attract', 'machine'), ('sleep-talk', 'machine'), ('return', 'machine'), ('frustration', 'machine'), ('dynamic-punch', 'tutor'), ('dragon-breath', 'machine'), ('iron-tail', 'tutor'), ('metal-claw', 'egg'), ('hidden-power', 'machine'), ('sunny-day', 'machine'), ('crunch', 'egg'), ('ancient-power', 'egg'), ('rock-smash', 'machine'), ('beat-up', 'egg'), ('heat-wave', 'tutor'), ('will-o-wisp', 'machine'), ('facade', 'machine'), ('focus-punch', 'tutor'), ('brick-break', 'machine'), ('secret-power', 'machine'), ('air-cutter', 'egg'), ('overheat', 'machine'), ('rock-tomb', 'machine'), ('aerial-ace', 'machine'), ('dragon-claw', 'machine'), ('dragon-dance', 'egg'), ('natural-gift', 'machine'), ('fling', 'machine'), ('flare-blitz', 'egg'), ('dragon-pulse', 'tutor'), ('dragon-rush', 'egg'), ('shadow-claw', 'machine'), ('fire-fang', 25), ('captivate', 'machine'), ('hone-claws', 'machine'), ('flame-burst', 28), ('flame-charge', 'machine'), ('round', 'machine'), ('echoed-voice', 'machine'), ('incinerate', 'machine'), ('inferno', 46), ('fire-pledge', 'tutor')]\", \"[('blaze', False), ('solar-power', True)]\", 6, 85, 1, \"[('charmander', '', 0), ('charmeleon', 'level-up(16)', 1), ('charizard', 'level-up(36)', 2)]\")\n",
            "(4, 'charmeleon', 5, 64, 80, 58, 65, 80, 58, 'fire', 'fire', \"[('mega-punch', 'tutor'), ('fire-punch', 'tutor'), ('thunder-punch', 'tutor'), ('scratch', 1), ('swords-dance', 'machine'), ('cut', 'machine'), ('mega-kick', 'tutor'), ('headbutt', 'tutor'), ('body-slam', 'tutor'), ('take-down', 'machine'), ('double-edge', 'tutor'), ('leer', 15), ('growl', 1), ('ember', 7), ('flamethrower', 'machine'), ('submission', 'machine'), ('counter', 'tutor'), ('seismic-toss', 'tutor'), ('strength', 'machine'), ('dragon-rage', 17), ('fire-spin', 50), ('dig', 'machine'), ('toxic', 'machine'), ('rage', 20), ('mimic', 'tutor'), ('double-team', 'machine'), ('smokescreen', 10), ('defense-curl', 'tutor'), ('reflect', 'machine'), ('bide', 'machine'), ('fire-blast', 'machine'), ('swift', 'tutor'), ('skull-bash', 'machine'), ('rest', 'machine'), ('rock-slide', 'machine'), ('slash', 39), ('substitute', 'machine'), ('snore', 'tutor'), ('curse', 'machine'), ('protect', 'machine'), ('scary-face', 21), ('mud-slap', 'tutor'), ('outrage', 'tutor'), ('endure', 'machine'), ('swagger', 'machine'), ('fury-cutter', 'tutor'), ('attract', 'machine'), ('sleep-talk', 'machine'), ('return', 'machine'), ('frustration', 'machine'), ('dynamic-punch', 'tutor'), ('dragon-breath', 'machine'), ('iron-tail', 'tutor'), ('metal-claw', 13), ('hidden-power', 'machine'), ('sunny-day', 'machine'), ('rock-smash', 'machine'), ('heat-wave', 'tutor'), ('will-o-wisp', 'machine'), ('facade', 'machine'), ('focus-punch', 'tutor'), ('brick-break', 'machine'), ('secret-power', 'machine'), ('overheat', 'machine'), ('rock-tomb', 'machine'), ('aerial-ace', 'machine'), ('dragon-claw', 'machine'), ('natural-gift', 'machine'), ('fling', 'machine'), ('dragon-pulse', 'tutor'), ('shadow-claw', 'machine'), ('fire-fang', 28), ('captivate', 'machine'), ('hone-claws', 'machine'), ('flame-burst', 32), ('flame-charge', 'machine'), ('round', 'machine'), ('echoed-voice', 'machine'), ('incinerate', 'machine'), ('inferno', 54), ('fire-pledge', 'tutor')]\", \"[('blaze', False), ('solar-power', True)]\", 11, 190, 1, \"[('charmander', '', 0), ('charmeleon', 'level-up(16)', 1), ('charizard', 'level-up(36)', 2)]\")\n",
            "(5, 'charizard', 6, 84, 109, 78, 85, 100, 78, 'fire', 'flying', \"[('mega-punch', 'tutor'), ('fire-punch', 'tutor'), ('thunder-punch', 'tutor'), ('scratch', 1), ('swords-dance', 'machine'), ('cut', 'machine'), ('wing-attack', 36), ('fly', 'machine'), ('mega-kick', 'tutor'), ('headbutt', 'tutor'), ('body-slam', 'tutor'), ('take-down', 'machine'), ('double-edge', 'tutor'), ('leer', 15), ('growl', 1), ('roar', 'machine'), ('ember', 7), ('flamethrower', 'machine'), ('hyper-beam', 'machine'), ('submission', 'machine'), ('counter', 'tutor'), ('seismic-toss', 'tutor'), ('strength', 'machine'), ('solar-beam', 'machine'), ('dragon-rage', 17), ('fire-spin', 56), ('earthquake', 'machine'), ('fissure', 'machine'), ('dig', 'machine'), ('toxic', 'machine'), ('rage', 20), ('mimic', 'tutor'), ('double-team', 'machine'), ('smokescreen', 10), ('defense-curl', 'tutor'), ('reflect', 'machine'), ('bide', 'machine'), ('fire-blast', 'machine'), ('swift', 'tutor'), ('skull-bash', 'machine'), ('rest', 'machine'), ('rock-slide', 'machine'), ('slash', 41), ('substitute', 'machine'), ('snore', 'tutor'), ('curse', 'machine'), ('protect', 'machine'), ('scary-face', 21), ('mud-slap', 'tutor'), ('outrage', 'tutor'), ('sandstorm', 'machine'), ('endure', 'machine'), ('swagger', 'machine'), ('fury-cutter', 'tutor'), ('steel-wing', 'machine'), ('attract', 'machine'), ('sleep-talk', 'machine'), ('return', 'machine'), ('frustration', 'machine'), ('dynamic-punch', 'tutor'), ('dragon-breath', 'machine'), ('iron-tail', 'tutor'), ('metal-claw', 13), ('hidden-power', 'machine'), ('twister', 'tutor'), ('sunny-day', 'machine'), ('rock-smash', 'machine'), ('heat-wave', 'tutor'), ('will-o-wisp', 'machine'), ('facade', 'machine'), ('focus-punch', 'tutor'), ('brick-break', 'machine'), ('secret-power', 'machine'), ('blast-burn', 'tutor'), ('air-cutter', 'tutor'), ('overheat', 'machine'), ('rock-tomb', 'machine'), ('aerial-ace', 'machine'), ('dragon-claw', 'machine'), ('roost', 'machine'), ('natural-gift', 'machine'), ('tailwind', 'tutor'), ('fling', 'machine'), ('flare-blitz', 77), ('air-slash', 1), ('dragon-pulse', 'tutor'), ('focus-blast', 'machine'), ('giga-impact', 'machine'), ('shadow-claw', 'machine'), ('fire-fang', 28), ('defog', 'machine'), ('captivate', 'machine'), ('ominous-wind', 'tutor'), ('hone-claws', 'machine'), ('flame-burst', 32), ('flame-charge', 'machine'), ('round', 'machine'), ('echoed-voice', 'machine'), ('sky-drop', 'machine'), ('incinerate', 'machine'), ('inferno', 62), ('fire-pledge', 'tutor'), ('bulldoze', 'machine'), ('dragon-tail', 'machine')]\", \"[('blaze', False), ('solar-power', True)]\", 17, 905, 1, \"[('charmander', '', 0), ('charmeleon', 'level-up(16)', 1), ('charizard', 'level-up(36)', 2)]\")\n",
            "(6, 'squirtle', 7, 48, 50, 65, 64, 43, 44, 'water', 'water', \"[('mega-punch', 'tutor'), ('ice-punch', 'tutor'), ('mega-kick', 'tutor'), ('headbutt', 'tutor'), ('tackle', 1), ('body-slam', 'tutor'), ('take-down', 'machine'), ('double-edge', 'tutor'), ('tail-whip', 4), ('bite', 16), ('mist', 'egg'), ('water-gun', 7), ('hydro-pump', 40), ('surf', 'machine'), ('ice-beam', 'machine'), ('blizzard', 'machine'), ('bubble-beam', 'machine'), ('submission', 'machine'), ('counter', 'tutor'), ('seismic-toss', 'tutor'), ('strength', 'machine'), ('dig', 'machine'), ('toxic', 'machine'), ('confusion', 'egg'), ('rage', 'machine'), ('mimic', 'tutor'), ('double-team', 'machine'), ('withdraw', 10), ('defense-curl', 'tutor'), ('haze', 'egg'), ('reflect', 'machine'), ('bide', 'machine'), ('waterfall', 'machine'), ('skull-bash', 31), ('bubble', 13), ('rest', 'machine'), ('substitute', 'machine'), ('snore', 'tutor'), ('curse', 'machine'), ('flail', 'egg'), ('protect', 'machine'), ('mud-slap', 'tutor'), ('foresight', 'egg'), ('icy-wind', 'tutor'), ('endure', 'machine'), ('rollout', 'tutor'), ('swagger', 'machine'), ('attract', 'machine'), ('sleep-talk', 'machine'), ('return', 'machine'), ('frustration', 'machine'), ('dynamic-punch', 'tutor'), ('rapid-spin', 19), ('iron-tail', 'tutor'), ('hidden-power', 'machine'), ('rain-dance', 'machine'), ('mirror-coat', 'egg'), ('rock-smash', 'machine'), ('whirlpool', 'machine'), ('fake-out', 'egg'), ('hail', 'machine'), ('facade', 'machine'), ('focus-punch', 'tutor'), ('brick-break', 'machine'), ('yawn', 'egg'), ('refresh', 'egg'), ('secret-power', 'machine'), ('dive', 'machine'), ('mud-sport', 'egg'), ('rock-tomb', 'machine'), ('water-spout', 'egg'), ('muddy-water', 'egg'), ('iron-defense', 'tutor'), ('water-pulse', 'tutor'), ('gyro-ball', 'machine'), ('brine', 'egg'), ('natural-gift', 'machine'), ('fling', 'machine'), ('aqua-ring', 'egg'), ('aura-sphere', 'egg'), ('aqua-tail', 'tutor'), ('dragon-pulse', 'tutor'), ('zen-headbutt', 'tutor'), ('captivate', 'machine'), ('aqua-jet', 'egg'), ('round', 'machine'), ('scald', 'machine'), ('water-pledge', 'tutor')]\", \"[('torrent', False), ('rain-dish', True)]\", 5, 90, 1, \"[('squirtle', '', 0), ('wartortle', 'level-up(16)', 1), ('blastoise', 'level-up(36)', 2)]\")\n",
            "(7, 'wartortle', 8, 63, 65, 80, 80, 58, 59, 'water', 'water', \"[('mega-punch', 'tutor'), ('ice-punch', 'tutor'), ('mega-kick', 'tutor'), ('headbutt', 'tutor'), ('tackle', 1), ('body-slam', 'tutor'), ('take-down', 'machine'), ('double-edge', 'tutor'), ('tail-whip', 4), ('bite', 16), ('water-gun', 7), ('hydro-pump', 48), ('surf', 'machine'), ('ice-beam', 'machine'), ('blizzard', 'machine'), ('bubble-beam', 'machine'), ('submission', 'machine'), ('counter', 'tutor'), ('seismic-toss', 'tutor'), ('strength', 'machine'), ('dig', 'machine'), ('toxic', 'machine'), ('rage', 'machine'), ('mimic', 'tutor'), ('double-team', 'machine'), ('withdraw', 10), ('defense-curl', 'tutor'), ('reflect', 'machine'), ('bide', 'machine'), ('waterfall', 'machine'), ('skull-bash', 36), ('bubble', 13), ('rest', 'machine'), ('substitute', 'machine'), ('snore', 'tutor'), ('curse', 'machine'), ('protect', 'machine'), ('mud-slap', 'tutor'), ('icy-wind', 'tutor'), ('endure', 'machine'), ('rollout', 'tutor'), ('swagger', 'machine'), ('attract', 'machine'), ('sleep-talk', 'machine'), ('return', 'machine'), ('frustration', 'machine'), ('dynamic-punch', 'tutor'), ('rapid-spin', 20), ('iron-tail', 'tutor'), ('hidden-power', 'machine'), ('rain-dance', 'machine'), ('rock-smash', 'machine'), ('whirlpool', 'machine'), ('hail', 'machine'), ('facade', 'machine'), ('focus-punch', 'tutor'), ('brick-break', 'machine'), ('secret-power', 'machine'), ('dive', 'machine'), ('rock-tomb', 'machine'), ('iron-defense', 'tutor'), ('water-pulse', 'tutor'), ('gyro-ball', 'machine'), ('brine', 'machine'), ('natural-gift', 'machine'), ('fling', 'machine'), ('aqua-tail', 'tutor'), ('dragon-pulse', 'tutor'), ('zen-headbutt', 'tutor'), ('captivate', 'machine'), ('round', 'machine'), ('scald', 'machine'), ('water-pledge', 'tutor')]\", \"[('torrent', False), ('rain-dish', True)]\", 10, 225, 1, \"[('squirtle', '', 0), ('wartortle', 'level-up(16)', 1), ('blastoise', 'level-up(36)', 2)]\")\n",
            "(8, 'blastoise', 9, 83, 85, 100, 105, 78, 79, 'water', 'water', \"[('mega-punch', 'tutor'), ('ice-punch', 'tutor'), ('mega-kick', 'tutor'), ('headbutt', 'tutor'), ('tackle', 1), ('body-slam', 'tutor'), ('take-down', 'machine'), ('double-edge', 'tutor'), ('tail-whip', 4), ('bite', 16), ('roar', 'machine'), ('water-gun', 7), ('hydro-pump', 60), ('surf', 'machine'), ('ice-beam', 'machine'), ('blizzard', 'machine'), ('bubble-beam', 'machine'), ('hyper-beam', 'machine'), ('submission', 'machine'), ('counter', 'tutor'), ('seismic-toss', 'tutor'), ('strength', 'machine'), ('earthquake', 'machine'), ('fissure', 'machine'), ('dig', 'machine'), ('toxic', 'machine'), ('rage', 'machine'), ('mimic', 'tutor'), ('double-team', 'machine'), ('withdraw', 10), ('defense-curl', 'tutor'), ('reflect', 'machine'), ('bide', 'machine'), ('waterfall', 'machine'), ('skull-bash', 39), ('bubble', 13), ('rest', 'machine'), ('rock-slide', 'machine'), ('substitute', 'machine'), ('snore', 'tutor'), ('curse', 'machine'), ('protect', 'machine'), ('mud-slap', 'tutor'), ('icy-wind', 'tutor'), ('outrage', 'tutor'), ('endure', 'machine'), ('rollout', 'tutor'), ('swagger', 'machine'), ('attract', 'machine'), ('sleep-talk', 'machine'), ('return', 'machine'), ('frustration', 'machine'), ('dynamic-punch', 'tutor'), ('rapid-spin', 20), ('iron-tail', 'tutor'), ('hidden-power', 'machine'), ('rain-dance', 'machine'), ('rock-smash', 'machine'), ('whirlpool', 'machine'), ('hail', 'machine'), ('facade', 'machine'), ('focus-punch', 'tutor'), ('brick-break', 'machine'), ('secret-power', 'machine'), ('dive', 'machine'), ('hydro-cannon', 'tutor'), ('rock-tomb', 'machine'), ('signal-beam', 'tutor'), ('iron-defense', 'tutor'), ('water-pulse', 'tutor'), ('gyro-ball', 'machine'), ('brine', 'machine'), ('natural-gift', 'machine'), ('fling', 'machine'), ('dark-pulse', 'machine'), ('aqua-tail', 'tutor'), ('dragon-pulse', 'tutor'), ('focus-blast', 'machine'), ('giga-impact', 'machine'), ('avalanche', 'machine'), ('zen-headbutt', 'tutor'), ('flash-cannon', 'machine'), ('rock-climb', 'machine'), ('captivate', 'machine'), ('smack-down', 'machine'), ('round', 'machine'), ('scald', 'machine'), ('water-pledge', 'tutor'), ('bulldoze', 'machine'), ('dragon-tail', 'machine')]\", \"[('torrent', False), ('rain-dish', True)]\", 16, 855, 1, \"[('squirtle', '', 0), ('wartortle', 'level-up(16)', 1), ('blastoise', 'level-up(36)', 2)]\")\n",
            "(9, 'caterpie', 10, 30, 20, 35, 20, 45, 45, 'bug', 'bug', \"[('tackle', 1), ('string-shot', 1), ('snore', 'tutor'), ('bug-bite', 'tutor'), ('electroweb', 'tutor')]\", \"[('shield-dust', False), ('run-away', True)]\", 3, 29, 1, \"[('caterpie', '', 0), ('metapod', 'level-up(7)', 1), ('butterfree', 'level-up(10)', 2)]\")\n"
          ]
        }
      ]
    },
    {
      "cell_type": "code",
      "source": [
        "#selects 20 pokemon that can learn flamethrower\n",
        "select_flamethrower_query = \"SELECT pokemon_name FROM pokemon WHERE REGEXP_LIKE(move_list, 'flamethrower') LIMIT 20\"\n",
        "\n",
        "cur.execute(select_flamethrower_query)\n",
        "result = cur.fetchall()\n",
        "for row in result:\n",
        "  print(row)"
      ],
      "metadata": {
        "colab": {
          "base_uri": "https://localhost:8080/"
        },
        "id": "Kux_4p0axNGA",
        "outputId": "0d730cd0-1525-4e13-bc1f-5624895dcc6c"
      },
      "execution_count": 7,
      "outputs": [
        {
          "output_type": "stream",
          "name": "stdout",
          "text": [
            "('charmander',)\n",
            "('charmeleon',)\n",
            "('charizard',)\n",
            "('nidoqueen',)\n",
            "('nidoking',)\n",
            "('clefairy',)\n",
            "('clefable',)\n",
            "('vulpix',)\n",
            "('ninetales',)\n",
            "('jigglypuff',)\n",
            "('wigglytuff',)\n",
            "('growlithe',)\n",
            "('arcanine',)\n",
            "('machop',)\n",
            "('machoke',)\n",
            "('machamp',)\n",
            "('geodude',)\n",
            "('graveler',)\n",
            "('golem',)\n",
            "('ponyta',)\n"
          ]
        }
      ]
    },
    {
      "cell_type": "code",
      "source": [
        "#selects all pokemon that are taller than 50 decimeters\n",
        "select_height_query = \"SELECT pokemon_name, height FROM pokemon WHERE height > 50\"\n",
        "\n",
        "#taller than 5 meteres\n",
        "cur.execute(select_height_query)\n",
        "result = cur.fetchall()\n",
        "for row in result:\n",
        "  print(row)"
      ],
      "metadata": {
        "colab": {
          "base_uri": "https://localhost:8080/"
        },
        "id": "bS87V5hq0EVu",
        "outputId": "e3ebf255-1141-465a-f44b-85ef9f8fba96"
      },
      "execution_count": 8,
      "outputs": [
        {
          "output_type": "stream",
          "name": "stdout",
          "text": [
            "('onix', 88)\n",
            "('gyarados', 65)\n",
            "('steelix', 92)\n",
            "('lugia', 52)\n",
            "('wailord', 145)\n",
            "('milotic', 62)\n",
            "('rayquaza', 70)\n",
            "('dialga', 54)\n"
          ]
        }
      ]
    },
    {
      "cell_type": "code",
      "source": [
        "#insert test\n",
        "insert_query = \"INSERT INTO pokemon (pokemon_name, pokedex_id) VALUES ('test_pokemon', 641)\"\n",
        "cur.execute(insert_query)\n",
        "\n",
        "select_last5_query = \"SELECT pokedex_id, pokemon_name FROM pokemon ORDER BY pokedex_id DESC LIMIT 5\"\n",
        "cur.execute(select_last5_query)\n",
        "result = cur.fetchall()\n",
        "for row in result:\n",
        "  print(row)"
      ],
      "metadata": {
        "colab": {
          "base_uri": "https://localhost:8080/"
        },
        "id": "8D8e3jff4IbZ",
        "outputId": "1fac140e-850a-4a71-d5b2-ab31b08e9e78"
      },
      "execution_count": 16,
      "outputs": [
        {
          "output_type": "stream",
          "name": "stdout",
          "text": [
            "(649, 'genesect')\n",
            "(646, 'kyurem')\n",
            "(644, 'zekrom')\n",
            "(643, 'reshiram')\n",
            "(641, 'test_pokem')\n"
          ]
        }
      ]
    },
    {
      "cell_type": "code",
      "source": [
        "#delete test\n",
        "delete_query = \"DELETE FROM pokemon WHERE pokedex_id = '641'\"\n",
        "cur.execute(delete_query)\n",
        "\n",
        "select_last5_query = \"SELECT pokedex_id, pokemon_name FROM pokemon ORDER BY pokedex_id DESC LIMIT 5\"\n",
        "cur.execute(select_last5_query)\n",
        "result = cur.fetchall()\n",
        "for row in result:\n",
        "  print(row)"
      ],
      "metadata": {
        "colab": {
          "base_uri": "https://localhost:8080/"
        },
        "id": "ZZ7UheEF4gFX",
        "outputId": "61ae9443-467b-4777-bd37-238767fba792"
      },
      "execution_count": 19,
      "outputs": [
        {
          "output_type": "stream",
          "name": "stdout",
          "text": [
            "(649, 'genesect')\n",
            "(646, 'kyurem')\n",
            "(644, 'zekrom')\n",
            "(643, 'reshiram')\n",
            "(640, 'virizion')\n"
          ]
        }
      ]
    }
  ]
}