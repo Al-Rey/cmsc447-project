{
 "cells": [
  {
   "cell_type": "markdown",
   "id": "48cc362d-717e-49dc-8c9a-c9e016767d63",
   "metadata": {},
   "source": [
    "This notebook is for collecting and cleaning all the nature data for pokemon up to generation 5. This is then stored and exported into a csv file"
   ]
  },
  {
   "cell_type": "markdown",
   "id": "93a36e2a-f62a-4399-8c7c-3049b750286f",
   "metadata": {},
   "source": [
    "# Libraries"
   ]
  },
  {
   "cell_type": "code",
   "execution_count": 69,
   "id": "206110e2-e6c3-4add-b863-6844d67394c4",
   "metadata": {},
   "outputs": [],
   "source": [
    "# Libraries\n",
    "import pokebase as pb\n",
    "import requests\n",
    "import json\n",
    "import pandas as pd\n",
    "import numpy as np"
   ]
  },
  {
   "cell_type": "markdown",
   "id": "a6d50b2c-d126-4724-9f67-7b7ca61dcdc1",
   "metadata": {},
   "source": [
    "# Collect the Data"
   ]
  },
  {
   "cell_type": "code",
   "execution_count": 70,
   "id": "d5148490-e5a1-4b2a-bd4f-2ca8c6a99238",
   "metadata": {},
   "outputs": [
    {
     "name": "stdout",
     "output_type": "stream",
     "text": [
      "dict_keys(['count', 'next', 'previous', 'results'])\n"
     ]
    }
   ],
   "source": [
    "query = requests.get('https://pokeapi.co/api/v2/nature?limit=100000&offset=0')\n",
    "query_data = json.loads(query.text)\n",
    "print(query_data.keys())"
   ]
  },
  {
   "cell_type": "code",
   "execution_count": 74,
   "id": "b01faa8a-3f57-4ddf-b0e3-3e9585e0515d",
   "metadata": {
    "tags": []
   },
   "outputs": [
    {
     "name": "stdout",
     "output_type": "stream",
     "text": [
      "Number of Natures: 25\n"
     ]
    }
   ],
   "source": [
    "# get the natures\n",
    "nature_data = query_data[\"results\"]\n",
    "print(\"Number of Natures:\", len(nature_data))"
   ]
  },
  {
   "cell_type": "markdown",
   "id": "dd9908d5-d2ff-4a54-b6a8-b07a5b049852",
   "metadata": {},
   "source": [
    "# Data Exploration"
   ]
  },
  {
   "cell_type": "code",
   "execution_count": 104,
   "id": "f8e893f8-344a-4c8f-9042-815c31f8d531",
   "metadata": {},
   "outputs": [
    {
     "name": "stdout",
     "output_type": "stream",
     "text": [
      "{'name': 'quirky', 'url': 'https://pokeapi.co/api/v2/nature/19/'}\n",
      "dict_keys(['decreased_stat', 'hates_flavor', 'id', 'increased_stat', 'likes_flavor', 'move_battle_style_preferences', 'name', 'names', 'pokeathlon_stat_changes'])\n"
     ]
    }
   ],
   "source": [
    "test = nature_data[18]\n",
    "print(test)\n",
    "\n",
    "nature_query = requests.get(test[\"url\"])\n",
    "nature_query_data = json.loads(nature_query.text)\n",
    "print(nature_query_data.keys())"
   ]
  },
  {
   "cell_type": "code",
   "execution_count": 105,
   "id": "7b934591-0177-4da5-a4b3-4ed2d6748983",
   "metadata": {},
   "outputs": [
    {
     "data": {
      "text/plain": [
       "{'decreased_stat': None,\n",
       " 'hates_flavor': None,\n",
       " 'id': 19,\n",
       " 'increased_stat': None,\n",
       " 'likes_flavor': None,\n",
       " 'move_battle_style_preferences': [{'high_hp_preference': 56,\n",
       "   'low_hp_preference': 56,\n",
       "   'move_battle_style': {'name': 'attack',\n",
       "    'url': 'https://pokeapi.co/api/v2/move-battle-style/1/'}},\n",
       "  {'high_hp_preference': 22,\n",
       "   'low_hp_preference': 22,\n",
       "   'move_battle_style': {'name': 'defense',\n",
       "    'url': 'https://pokeapi.co/api/v2/move-battle-style/2/'}},\n",
       "  {'high_hp_preference': 22,\n",
       "   'low_hp_preference': 22,\n",
       "   'move_battle_style': {'name': 'support',\n",
       "    'url': 'https://pokeapi.co/api/v2/move-battle-style/3/'}}],\n",
       " 'name': 'quirky',\n",
       " 'names': [{'language': {'name': 'ja-Hrkt',\n",
       "    'url': 'https://pokeapi.co/api/v2/language/1/'},\n",
       "   'name': 'きまぐれ'},\n",
       "  {'language': {'name': 'ko', 'url': 'https://pokeapi.co/api/v2/language/3/'},\n",
       "   'name': '변덕'},\n",
       "  {'language': {'name': 'zh-Hant',\n",
       "    'url': 'https://pokeapi.co/api/v2/language/4/'},\n",
       "   'name': '浮躁'},\n",
       "  {'language': {'name': 'fr', 'url': 'https://pokeapi.co/api/v2/language/5/'},\n",
       "   'name': 'Bizarre'},\n",
       "  {'language': {'name': 'de', 'url': 'https://pokeapi.co/api/v2/language/6/'},\n",
       "   'name': 'Kauzig'},\n",
       "  {'language': {'name': 'es', 'url': 'https://pokeapi.co/api/v2/language/7/'},\n",
       "   'name': 'Rara'},\n",
       "  {'language': {'name': 'it', 'url': 'https://pokeapi.co/api/v2/language/8/'},\n",
       "   'name': 'Furba'},\n",
       "  {'language': {'name': 'en', 'url': 'https://pokeapi.co/api/v2/language/9/'},\n",
       "   'name': 'Quirky'},\n",
       "  {'language': {'name': 'ja', 'url': 'https://pokeapi.co/api/v2/language/11/'},\n",
       "   'name': 'きまぐれ'},\n",
       "  {'language': {'name': 'zh-Hans',\n",
       "    'url': 'https://pokeapi.co/api/v2/language/12/'},\n",
       "   'name': '浮躁'}],\n",
       " 'pokeathlon_stat_changes': [{'max_change': 1,\n",
       "   'pokeathlon_stat': {'name': 'speed',\n",
       "    'url': 'https://pokeapi.co/api/v2/pokeathlon-stat/1/'}},\n",
       "  {'max_change': -1,\n",
       "   'pokeathlon_stat': {'name': 'skill',\n",
       "    'url': 'https://pokeapi.co/api/v2/pokeathlon-stat/3/'}}]}"
      ]
     },
     "execution_count": 105,
     "metadata": {},
     "output_type": "execute_result"
    }
   ],
   "source": [
    "nature_query_data"
   ]
  },
  {
   "cell_type": "code",
   "execution_count": 95,
   "id": "abe2e944-0462-4099-899c-50f2189f81ab",
   "metadata": {},
   "outputs": [
    {
     "name": "stdout",
     "output_type": "stream",
     "text": [
      "None\n"
     ]
    }
   ],
   "source": [
    "print(nature_query_data[\"decreased_stat\"])"
   ]
  },
  {
   "cell_type": "code",
   "execution_count": 97,
   "id": "d386349b-3573-430f-b704-91567cf67bf9",
   "metadata": {
    "tags": []
   },
   "outputs": [],
   "source": [
    "nature_query_data[\"increased_stat\"]"
   ]
  },
  {
   "cell_type": "code",
   "execution_count": 98,
   "id": "d5762410-1fc0-4403-99fe-72af5e5a4abd",
   "metadata": {
    "tags": []
   },
   "outputs": [
    {
     "data": {
      "text/plain": [
       "'hardy'"
      ]
     },
     "execution_count": 98,
     "metadata": {},
     "output_type": "execute_result"
    }
   ],
   "source": [
    "nature_query_data[\"name\"]"
   ]
  },
  {
   "cell_type": "markdown",
   "id": "f3c6eb69-4f04-4dce-8eba-3a95c952d241",
   "metadata": {},
   "source": [
    "# Data Cleaning"
   ]
  },
  {
   "cell_type": "code",
   "execution_count": 91,
   "id": "6c56d7c9-2319-443c-8d53-0461c879c666",
   "metadata": {},
   "outputs": [],
   "source": [
    "natures_df = pd.DataFrame(columns=[\"name\", \"decreased_stat\", \"increased_stat\"])"
   ]
  },
  {
   "cell_type": "code",
   "execution_count": 102,
   "id": "9dce6d85-a384-414c-965a-0bd4fd62cdfe",
   "metadata": {
    "tags": []
   },
   "outputs": [
    {
     "name": "stdout",
     "output_type": "stream",
     "text": [
      "hardy\n",
      "bold\n",
      "modest\n",
      "calm\n",
      "timid\n",
      "lonely\n",
      "docile\n",
      "mild\n",
      "gentle\n",
      "hasty\n",
      "adamant\n",
      "impish\n",
      "bashful\n",
      "careful\n",
      "rash\n",
      "jolly\n",
      "naughty\n",
      "lax\n",
      "quirky\n",
      "naive\n",
      "brave\n",
      "relaxed\n",
      "quiet\n",
      "sassy\n",
      "serious\n"
     ]
    }
   ],
   "source": [
    "for nature in nature_data:\n",
    "    # pull the page data that we need\n",
    "    nature_query = requests.get(nature[\"url\"])\n",
    "    nature_query_data = json.loads(nature_query.text)\n",
    "   \n",
    "    temp = [\"\", \"\", \"\"]\n",
    "\n",
    "    temp[0] = nature_query_data[\"name\"] # get the nature's name    \n",
    "    print(temp[0])\n",
    "    \n",
    "    hold = nature_query_data[\"decreased_stat\"] # get the dicitonary for decreased_stat\n",
    "    \n",
    "    if hold == None: # get the stat that this nature decreases. If the nature doesn't decrease a stat, then put an empty string\n",
    "        temp[1] = \"\"\n",
    "    else:\n",
    "        temp[1] = nature_query_data[\"decreased_stat\"][\"name\"]\n",
    "    \n",
    "    hold = nature_query_data[\"increased_stat\"]\n",
    "\n",
    "    if hold == None: # get the stat that this nature increases. If the nature doesn't increase a stat, then put an empty string\n",
    "        temp[2] = \"\"\n",
    "    else:\n",
    "        temp[2] = nature_query_data[\"increased_stat\"][\"name\"] \n",
    "\n",
    "    natures_df.loc[len(natures_df.index)] = temp                "
   ]
  },
  {
   "cell_type": "code",
   "execution_count": 103,
   "id": "1a6f8afb-792e-4eaf-b3e2-67526dc9f24b",
   "metadata": {},
   "outputs": [
    {
     "data": {
      "text/html": [
       "<div>\n",
       "<style scoped>\n",
       "    .dataframe tbody tr th:only-of-type {\n",
       "        vertical-align: middle;\n",
       "    }\n",
       "\n",
       "    .dataframe tbody tr th {\n",
       "        vertical-align: top;\n",
       "    }\n",
       "\n",
       "    .dataframe thead th {\n",
       "        text-align: right;\n",
       "    }\n",
       "</style>\n",
       "<table border=\"1\" class=\"dataframe\">\n",
       "  <thead>\n",
       "    <tr style=\"text-align: right;\">\n",
       "      <th></th>\n",
       "      <th>name</th>\n",
       "      <th>decreased_stat</th>\n",
       "      <th>increased_stat</th>\n",
       "    </tr>\n",
       "  </thead>\n",
       "  <tbody>\n",
       "    <tr>\n",
       "      <th>0</th>\n",
       "      <td>hardy</td>\n",
       "      <td></td>\n",
       "      <td></td>\n",
       "    </tr>\n",
       "    <tr>\n",
       "      <th>1</th>\n",
       "      <td>bold</td>\n",
       "      <td>attack</td>\n",
       "      <td>defense</td>\n",
       "    </tr>\n",
       "    <tr>\n",
       "      <th>2</th>\n",
       "      <td>modest</td>\n",
       "      <td>attack</td>\n",
       "      <td>special-attack</td>\n",
       "    </tr>\n",
       "    <tr>\n",
       "      <th>3</th>\n",
       "      <td>calm</td>\n",
       "      <td>attack</td>\n",
       "      <td>special-defense</td>\n",
       "    </tr>\n",
       "    <tr>\n",
       "      <th>4</th>\n",
       "      <td>timid</td>\n",
       "      <td>attack</td>\n",
       "      <td>speed</td>\n",
       "    </tr>\n",
       "    <tr>\n",
       "      <th>5</th>\n",
       "      <td>lonely</td>\n",
       "      <td>defense</td>\n",
       "      <td>attack</td>\n",
       "    </tr>\n",
       "    <tr>\n",
       "      <th>6</th>\n",
       "      <td>docile</td>\n",
       "      <td></td>\n",
       "      <td></td>\n",
       "    </tr>\n",
       "    <tr>\n",
       "      <th>7</th>\n",
       "      <td>mild</td>\n",
       "      <td>defense</td>\n",
       "      <td>special-attack</td>\n",
       "    </tr>\n",
       "    <tr>\n",
       "      <th>8</th>\n",
       "      <td>gentle</td>\n",
       "      <td>defense</td>\n",
       "      <td>special-defense</td>\n",
       "    </tr>\n",
       "    <tr>\n",
       "      <th>9</th>\n",
       "      <td>hasty</td>\n",
       "      <td>defense</td>\n",
       "      <td>speed</td>\n",
       "    </tr>\n",
       "    <tr>\n",
       "      <th>10</th>\n",
       "      <td>adamant</td>\n",
       "      <td>special-attack</td>\n",
       "      <td>attack</td>\n",
       "    </tr>\n",
       "    <tr>\n",
       "      <th>11</th>\n",
       "      <td>impish</td>\n",
       "      <td>special-attack</td>\n",
       "      <td>defense</td>\n",
       "    </tr>\n",
       "    <tr>\n",
       "      <th>12</th>\n",
       "      <td>bashful</td>\n",
       "      <td></td>\n",
       "      <td></td>\n",
       "    </tr>\n",
       "    <tr>\n",
       "      <th>13</th>\n",
       "      <td>careful</td>\n",
       "      <td>special-attack</td>\n",
       "      <td>special-defense</td>\n",
       "    </tr>\n",
       "    <tr>\n",
       "      <th>14</th>\n",
       "      <td>rash</td>\n",
       "      <td>special-defense</td>\n",
       "      <td>special-attack</td>\n",
       "    </tr>\n",
       "    <tr>\n",
       "      <th>15</th>\n",
       "      <td>jolly</td>\n",
       "      <td>special-attack</td>\n",
       "      <td>speed</td>\n",
       "    </tr>\n",
       "    <tr>\n",
       "      <th>16</th>\n",
       "      <td>naughty</td>\n",
       "      <td>special-defense</td>\n",
       "      <td>attack</td>\n",
       "    </tr>\n",
       "    <tr>\n",
       "      <th>17</th>\n",
       "      <td>lax</td>\n",
       "      <td>special-defense</td>\n",
       "      <td>defense</td>\n",
       "    </tr>\n",
       "    <tr>\n",
       "      <th>18</th>\n",
       "      <td>quirky</td>\n",
       "      <td></td>\n",
       "      <td></td>\n",
       "    </tr>\n",
       "    <tr>\n",
       "      <th>19</th>\n",
       "      <td>naive</td>\n",
       "      <td>special-defense</td>\n",
       "      <td>speed</td>\n",
       "    </tr>\n",
       "    <tr>\n",
       "      <th>20</th>\n",
       "      <td>brave</td>\n",
       "      <td>speed</td>\n",
       "      <td>attack</td>\n",
       "    </tr>\n",
       "    <tr>\n",
       "      <th>21</th>\n",
       "      <td>relaxed</td>\n",
       "      <td>speed</td>\n",
       "      <td>defense</td>\n",
       "    </tr>\n",
       "    <tr>\n",
       "      <th>22</th>\n",
       "      <td>quiet</td>\n",
       "      <td>speed</td>\n",
       "      <td>special-attack</td>\n",
       "    </tr>\n",
       "    <tr>\n",
       "      <th>23</th>\n",
       "      <td>sassy</td>\n",
       "      <td>speed</td>\n",
       "      <td>special-defense</td>\n",
       "    </tr>\n",
       "    <tr>\n",
       "      <th>24</th>\n",
       "      <td>serious</td>\n",
       "      <td></td>\n",
       "      <td></td>\n",
       "    </tr>\n",
       "  </tbody>\n",
       "</table>\n",
       "</div>"
      ],
      "text/plain": [
       "       name   decreased_stat   increased_stat\n",
       "0     hardy                                  \n",
       "1      bold           attack          defense\n",
       "2    modest           attack   special-attack\n",
       "3      calm           attack  special-defense\n",
       "4     timid           attack            speed\n",
       "5    lonely          defense           attack\n",
       "6    docile                                  \n",
       "7      mild          defense   special-attack\n",
       "8    gentle          defense  special-defense\n",
       "9     hasty          defense            speed\n",
       "10  adamant   special-attack           attack\n",
       "11   impish   special-attack          defense\n",
       "12  bashful                                  \n",
       "13  careful   special-attack  special-defense\n",
       "14     rash  special-defense   special-attack\n",
       "15    jolly   special-attack            speed\n",
       "16  naughty  special-defense           attack\n",
       "17      lax  special-defense          defense\n",
       "18   quirky                                  \n",
       "19    naive  special-defense            speed\n",
       "20    brave            speed           attack\n",
       "21  relaxed            speed          defense\n",
       "22    quiet            speed   special-attack\n",
       "23    sassy            speed  special-defense\n",
       "24  serious                                  "
      ]
     },
     "execution_count": 103,
     "metadata": {},
     "output_type": "execute_result"
    }
   ],
   "source": [
    "natures_df"
   ]
  },
  {
   "cell_type": "code",
   "execution_count": 106,
   "id": "e817e63b-9d73-4f5b-abeb-bea8bd48a943",
   "metadata": {},
   "outputs": [],
   "source": [
    "natures_df.to_csv(\"nature_data.csv\")"
   ]
  },
  {
   "cell_type": "code",
   "execution_count": null,
   "id": "47eee16a-7f65-4c71-b190-72ab17a24151",
   "metadata": {},
   "outputs": [],
   "source": []
  }
 ],
 "metadata": {
  "kernelspec": {
   "display_name": "Python 3 (ipykernel)",
   "language": "python",
   "name": "python3"
  },
  "language_info": {
   "codemirror_mode": {
    "name": "ipython",
    "version": 3
   },
   "file_extension": ".py",
   "mimetype": "text/x-python",
   "name": "python",
   "nbconvert_exporter": "python",
   "pygments_lexer": "ipython3",
   "version": "3.7.13"
  }
 },
 "nbformat": 4,
 "nbformat_minor": 5
}
