{
 "cells": [
  {
   "cell_type": "code",
   "execution_count": null,
   "id": "4e6d1e28-664f-4cde-b1ff-740ea3233732",
   "metadata": {},
   "outputs": [],
   "source": []
  },
  {
   "cell_type": "markdown",
   "id": "56a3fac1-fcd4-469a-bb7b-4da35d0a5143",
   "metadata": {},
   "source": [
    "# Libraries"
   ]
  },
  {
   "cell_type": "code",
   "execution_count": 1,
   "id": "7cb45686-eecc-4088-ae79-04375e51b437",
   "metadata": {},
   "outputs": [],
   "source": [
    "# Libraries\n",
    "#import pokebase as pb\n",
    "import requests\n",
    "import json\n",
    "import pandas as pd\n",
    "import numpy as np"
   ]
  },
  {
   "cell_type": "markdown",
   "id": "fc2b703d-e141-47a9-9099-f7eeafcb1460",
   "metadata": {},
   "source": [
    "# Collect the Data"
   ]
  },
  {
   "cell_type": "code",
   "execution_count": 2,
   "id": "80ca877f-1e1c-46b4-b52f-0362be2ef1cd",
   "metadata": {},
   "outputs": [
    {
     "name": "stdout",
     "output_type": "stream",
     "text": [
      "dict_keys(['count', 'next', 'previous', 'results'])\n"
     ]
    }
   ],
   "source": [
    "query = requests.get('https://pokeapi.co/api/v2/move?limit=1000&offset=0')\n",
    "query_data = json.loads(query.text)\n",
    "print(query_data.keys())"
   ]
  },
  {
   "cell_type": "code",
   "execution_count": 3,
   "id": "81f1f6a4-051f-47bc-9326-8be40d30b425",
   "metadata": {},
   "outputs": [
    {
     "name": "stdout",
     "output_type": "stream",
     "text": [
      "844\n"
     ]
    }
   ],
   "source": [
    "print(len(query_data[\"results\"]))"
   ]
  },
  {
   "cell_type": "code",
   "execution_count": 4,
   "id": "fa06009b-96f6-4afd-a270-3d608dfd102a",
   "metadata": {},
   "outputs": [],
   "source": [
    "move_data = query_data[\"results\"]"
   ]
  },
  {
   "cell_type": "markdown",
   "id": "50ba9ed6-21b0-4e84-95f4-259b32283f76",
   "metadata": {},
   "source": [
    "# Data Exploration"
   ]
  },
  {
   "cell_type": "code",
   "execution_count": 5,
   "id": "331f986a-0ae6-4bca-b6d4-a9a2aea1cab4",
   "metadata": {},
   "outputs": [
    {
     "name": "stdout",
     "output_type": "stream",
     "text": [
      "vice-grip\n",
      "dict_keys(['accuracy', 'contest_combos', 'contest_effect', 'contest_type', 'damage_class', 'effect_chance', 'effect_changes', 'effect_entries', 'flavor_text_entries', 'generation', 'id', 'learned_by_pokemon', 'machines', 'meta', 'name', 'names', 'past_values', 'power', 'pp', 'priority', 'stat_changes', 'super_contest_effect', 'target', 'type'])\n"
     ]
    }
   ],
   "source": [
    "test = move_data[10]\n",
    "# print(test.keys())\n",
    "print(test[\"name\"])\n",
    "\n",
    "move_query = requests.get(test[\"url\"])\n",
    "move_query_data = json.loads(move_query.text)\n",
    "print(move_query_data.keys())"
   ]
  },
  {
   "cell_type": "code",
   "execution_count": 6,
   "id": "3aae83e9-9000-479b-ac11-192cf8a7875f",
   "metadata": {
    "tags": []
   },
   "outputs": [
    {
     "name": "stdout",
     "output_type": "stream",
     "text": [
      "{'ailment': {'name': 'none', 'url': 'https://pokeapi.co/api/v2/move-ailment/0/'}, 'ailment_chance': 0, 'category': {'name': 'damage', 'url': 'https://pokeapi.co/api/v2/move-category/0/'}, 'crit_rate': 0, 'drain': 0, 'flinch_chance': 0, 'healing': 0, 'max_hits': None, 'max_turns': None, 'min_hits': None, 'min_turns': None, 'stat_chance': 0}\n"
     ]
    }
   ],
   "source": [
    "print(move_query_data[\"meta\"])"
   ]
  },
  {
   "cell_type": "code",
   "execution_count": 7,
   "id": "5872374a-6ef5-42d8-aad0-4abdb4bb8c14",
   "metadata": {},
   "outputs": [
    {
     "data": {
      "text/plain": [
       "[]"
      ]
     },
     "execution_count": 7,
     "metadata": {},
     "output_type": "execute_result"
    }
   ],
   "source": [
    "move_query_data[\"effect_changes\"]"
   ]
  },
  {
   "cell_type": "code",
   "execution_count": 8,
   "id": "0d431b5d-2e1a-4e54-8dbd-1c8dd173634b",
   "metadata": {},
   "outputs": [
    {
     "data": {
      "text/plain": [
       "{'name': 'generation-i', 'url': 'https://pokeapi.co/api/v2/generation/1/'}"
      ]
     },
     "execution_count": 8,
     "metadata": {},
     "output_type": "execute_result"
    }
   ],
   "source": [
    "move_query_data[\"generation\"]"
   ]
  },
  {
   "cell_type": "markdown",
   "id": "fb4bf061-c099-4c52-9c6d-06c928084919",
   "metadata": {},
   "source": [
    "# Data Cleaning\n",
    "**NOTES**\n",
    "- need to heck the `past_values` key to makes ure that the data we are getting for those things is up to date with the infomration we want\n",
    "- need to substitue `effect_chance` info `effect_entries`"
   ]
  },
  {
   "cell_type": "code",
   "execution_count": 9,
   "id": "535af7b6-f43d-4246-a731-569cce09f347",
   "metadata": {},
   "outputs": [],
   "source": [
    "# handy variables\n",
    "colums_needed = [\"name\", \"accuracy\", \"class\", \"game_desc\", \"effect_chance\", \"generation\", \"machines\", \"crit_rate\", \"type\", \"power\", \"pp\", \"priority\"]\n",
    "# gens = ['generation-i', 'generation-ii', 'generation-iii', 'generation-iv', 'generation-v']\n",
    "gens = {'generation-i':1, 'generation-ii':2, 'generation-iii':3, 'generation-iv':4, 'generation-v':5}\n",
    "latest_game = \"back-2-white-2\"\n",
    "second_latest_game = \"black-white\""
   ]
  },
  {
   "cell_type": "code",
   "execution_count": 10,
   "id": "76369e56-8611-4ebb-9396-b6808f5d9bbc",
   "metadata": {},
   "outputs": [
    {
     "name": "stdout",
     "output_type": "stream",
     "text": [
      "844\n"
     ]
    }
   ],
   "source": [
    "print(len(move_data))"
   ]
  },
  {
   "cell_type": "code",
   "execution_count": 11,
   "id": "ddf1bfb4-7443-482d-9dd5-f4d35b7e176a",
   "metadata": {},
   "outputs": [
    {
     "data": {
      "text/plain": [
       "['generation-i',\n",
       " 'generation-ii',\n",
       " 'generation-iii',\n",
       " 'generation-iv',\n",
       " 'generation-v']"
      ]
     },
     "execution_count": 11,
     "metadata": {},
     "output_type": "execute_result"
    }
   ],
   "source": [
    "list(gens.keys())"
   ]
  },
  {
   "cell_type": "code",
   "execution_count": 12,
   "id": "aeb94710-782a-4975-b2ba-2fb1286f3a37",
   "metadata": {
    "tags": []
   },
   "outputs": [],
   "source": [
    "# make the dataframe\n",
    "moves_df = pd.DataFrame(columns=colums_needed)\n",
    "\n",
    "for move in move_data:\n",
    "    # pull the page data that we need\n",
    "    move_query = requests.get(move[\"url\"])\n",
    "    move_query_data = json.loads(move_query.text)\n",
    "    # print(move_query_data[\"generation\"])\n",
    "    if move_query_data[\"generation\"][\"name\"] in list(gens.keys()): # only get the abilities from the first 5 generation\n",
    "        # print(\"got here\")\n",
    "        # print(\"here\")\n",
    "        temp = [\"\"] * len(colums_needed)\n",
    "\n",
    "        temp[0] = move_query_data[\"name\"] # get the move's name\n",
    "\n",
    "        temp[1] = move_query_data[\"accuracy\"] # get the accuracy of the move\n",
    "        \n",
    "        temp[2] = move_query_data[\"damage_class\"][\"name\"] # get the damgage type of the class\n",
    "        \n",
    "        effect_data = move_query_data[\"effect_entries\"] # get the in game description of the move\n",
    "        for text in effect_data:\n",
    "            if text[\"language\"][\"name\"] == \"en\": # get the english descriptions from black and white\n",
    "                desc = text[\"short_effect\"]\n",
    "                desc = desc.replace('$effect_chance', str(move_query_data[\"effect_chance\"]))\n",
    "                temp[3] = desc\n",
    "                \n",
    "                \n",
    "                desc2 = text[\"effect\"].replace('$effect_chance', str(move_query_data[\"effect_chance\"]))\n",
    "                # print(desc2)\n",
    "                temp[4] = desc2\n",
    "                break\n",
    "                \n",
    "        # get the generation the move is from\n",
    "        temp[5] = gens[move_query_data[\"generation\"][\"name\"]]\n",
    "        # print(temp[0], \"=\", temp[5])\n",
    "                    \n",
    "        moves_df.loc[len(moves_df.index)] = temp\n",
    "\n",
    "#         if \"iv\" in gen:\n",
    "#             temp[1] = 4\n",
    "#         elif \"v\" in gen:\n",
    "#             temp[1] = 5\n",
    "#         elif \"iii\" in gen:\n",
    "#             temp[1] = 3\n",
    "#         elif \"ii\" in gen:\n",
    "#             temp[1] = 2\n",
    "#         elif \"i\" in gen:\n",
    "#             temp[1] = 1\n",
    "#         else: # raise an error if we get a value that is not one of these generations\n",
    "#             print(gen)\n",
    "#             raise ValueError(\"We got an invalid generation!\")\n",
    "\n",
    "#         effect_data = move_query_data[\"effect_entries\"] # get the effect description\n",
    "#         for text in effect_data:\n",
    "#             if text[\"language\"][\"name\"] == \"en\": # get the english descriptions\n",
    "#                     temp[2] = text[\"effect\"]\n",
    "#                     break\n",
    "\n",
    "        \n",
    "\n",
    "        # print(temp)\n",
    "\n",
    "        # moves_df.loc[len(moves_df.index)] = temp                "
   ]
  },
  {
   "cell_type": "code",
   "execution_count": 13,
   "id": "eb519019-1b42-4e51-88f4-af7d382e1d5b",
   "metadata": {},
   "outputs": [
    {
     "data": {
      "text/html": [
       "<div>\n",
       "<style scoped>\n",
       "    .dataframe tbody tr th:only-of-type {\n",
       "        vertical-align: middle;\n",
       "    }\n",
       "\n",
       "    .dataframe tbody tr th {\n",
       "        vertical-align: top;\n",
       "    }\n",
       "\n",
       "    .dataframe thead th {\n",
       "        text-align: right;\n",
       "    }\n",
       "</style>\n",
       "<table border=\"1\" class=\"dataframe\">\n",
       "  <thead>\n",
       "    <tr style=\"text-align: right;\">\n",
       "      <th></th>\n",
       "      <th>name</th>\n",
       "      <th>accuracy</th>\n",
       "      <th>class</th>\n",
       "      <th>game_desc</th>\n",
       "      <th>effect_chance</th>\n",
       "      <th>generation</th>\n",
       "      <th>machines</th>\n",
       "      <th>crit_rate</th>\n",
       "      <th>type</th>\n",
       "      <th>power</th>\n",
       "      <th>pp</th>\n",
       "      <th>priority</th>\n",
       "    </tr>\n",
       "  </thead>\n",
       "  <tbody>\n",
       "    <tr>\n",
       "      <th>0</th>\n",
       "      <td>pound</td>\n",
       "      <td>100</td>\n",
       "      <td>physical</td>\n",
       "      <td>Inflicts regular damage with no additional eff...</td>\n",
       "      <td>Inflicts regular damage.</td>\n",
       "      <td>1</td>\n",
       "      <td></td>\n",
       "      <td></td>\n",
       "      <td></td>\n",
       "      <td></td>\n",
       "      <td></td>\n",
       "      <td></td>\n",
       "    </tr>\n",
       "    <tr>\n",
       "      <th>1</th>\n",
       "      <td>karate-chop</td>\n",
       "      <td>100</td>\n",
       "      <td>physical</td>\n",
       "      <td>Has an increased chance for a critical hit.</td>\n",
       "      <td>Inflicts regular damage.  User's critical hit ...</td>\n",
       "      <td>1</td>\n",
       "      <td></td>\n",
       "      <td></td>\n",
       "      <td></td>\n",
       "      <td></td>\n",
       "      <td></td>\n",
       "      <td></td>\n",
       "    </tr>\n",
       "    <tr>\n",
       "      <th>2</th>\n",
       "      <td>double-slap</td>\n",
       "      <td>85</td>\n",
       "      <td>physical</td>\n",
       "      <td>Hits 2-5 times in one turn.</td>\n",
       "      <td>Inflicts regular damage.  Hits 2–5 times in on...</td>\n",
       "      <td>1</td>\n",
       "      <td></td>\n",
       "      <td></td>\n",
       "      <td></td>\n",
       "      <td></td>\n",
       "      <td></td>\n",
       "      <td></td>\n",
       "    </tr>\n",
       "    <tr>\n",
       "      <th>3</th>\n",
       "      <td>comet-punch</td>\n",
       "      <td>85</td>\n",
       "      <td>physical</td>\n",
       "      <td>Hits 2-5 times in one turn.</td>\n",
       "      <td>Inflicts regular damage.  Hits 2–5 times in on...</td>\n",
       "      <td>1</td>\n",
       "      <td></td>\n",
       "      <td></td>\n",
       "      <td></td>\n",
       "      <td></td>\n",
       "      <td></td>\n",
       "      <td></td>\n",
       "    </tr>\n",
       "    <tr>\n",
       "      <th>4</th>\n",
       "      <td>mega-punch</td>\n",
       "      <td>85</td>\n",
       "      <td>physical</td>\n",
       "      <td>Inflicts regular damage with no additional eff...</td>\n",
       "      <td>Inflicts regular damage.</td>\n",
       "      <td>1</td>\n",
       "      <td></td>\n",
       "      <td></td>\n",
       "      <td></td>\n",
       "      <td></td>\n",
       "      <td></td>\n",
       "      <td></td>\n",
       "    </tr>\n",
       "    <tr>\n",
       "      <th>...</th>\n",
       "      <td>...</td>\n",
       "      <td>...</td>\n",
       "      <td>...</td>\n",
       "      <td>...</td>\n",
       "      <td>...</td>\n",
       "      <td>...</td>\n",
       "      <td>...</td>\n",
       "      <td>...</td>\n",
       "      <td>...</td>\n",
       "      <td>...</td>\n",
       "      <td>...</td>\n",
       "      <td>...</td>\n",
       "    </tr>\n",
       "    <tr>\n",
       "      <th>572</th>\n",
       "      <td>shadow-hold</td>\n",
       "      <td>None</td>\n",
       "      <td>status</td>\n",
       "      <td>Prevents the target from leaving battle.</td>\n",
       "      <td>The target cannot switch out normally.  Ignore...</td>\n",
       "      <td>3</td>\n",
       "      <td></td>\n",
       "      <td></td>\n",
       "      <td></td>\n",
       "      <td></td>\n",
       "      <td></td>\n",
       "      <td></td>\n",
       "    </tr>\n",
       "    <tr>\n",
       "      <th>573</th>\n",
       "      <td>shadow-mist</td>\n",
       "      <td>100</td>\n",
       "      <td>status</td>\n",
       "      <td>Lowers the target's evasion by two stages.</td>\n",
       "      <td>Lowers the target's evasion by two stages.</td>\n",
       "      <td>3</td>\n",
       "      <td></td>\n",
       "      <td></td>\n",
       "      <td></td>\n",
       "      <td></td>\n",
       "      <td></td>\n",
       "      <td></td>\n",
       "    </tr>\n",
       "    <tr>\n",
       "      <th>574</th>\n",
       "      <td>shadow-panic</td>\n",
       "      <td>90</td>\n",
       "      <td>status</td>\n",
       "      <td>Confuses the target.</td>\n",
       "      <td>Confuses the target.</td>\n",
       "      <td>3</td>\n",
       "      <td></td>\n",
       "      <td></td>\n",
       "      <td></td>\n",
       "      <td></td>\n",
       "      <td></td>\n",
       "      <td></td>\n",
       "    </tr>\n",
       "    <tr>\n",
       "      <th>575</th>\n",
       "      <td>shadow-shed</td>\n",
       "      <td>None</td>\n",
       "      <td>status</td>\n",
       "      <td>Removes Light Screen, Reflect, and Safeguard.</td>\n",
       "      <td>Removes the effects of light screen, reflect, ...</td>\n",
       "      <td>3</td>\n",
       "      <td></td>\n",
       "      <td></td>\n",
       "      <td></td>\n",
       "      <td></td>\n",
       "      <td></td>\n",
       "      <td></td>\n",
       "    </tr>\n",
       "    <tr>\n",
       "      <th>576</th>\n",
       "      <td>shadow-sky</td>\n",
       "      <td>None</td>\n",
       "      <td>status</td>\n",
       "      <td>Changes the weather to Shadow Sky for five turns.</td>\n",
       "      <td>Changes the weather to Shadow Sky for five tur...</td>\n",
       "      <td>3</td>\n",
       "      <td></td>\n",
       "      <td></td>\n",
       "      <td></td>\n",
       "      <td></td>\n",
       "      <td></td>\n",
       "      <td></td>\n",
       "    </tr>\n",
       "  </tbody>\n",
       "</table>\n",
       "<p>577 rows × 12 columns</p>\n",
       "</div>"
      ],
      "text/plain": [
       "             name accuracy     class  \\\n",
       "0           pound      100  physical   \n",
       "1     karate-chop      100  physical   \n",
       "2     double-slap       85  physical   \n",
       "3     comet-punch       85  physical   \n",
       "4      mega-punch       85  physical   \n",
       "..            ...      ...       ...   \n",
       "572   shadow-hold     None    status   \n",
       "573   shadow-mist      100    status   \n",
       "574  shadow-panic       90    status   \n",
       "575   shadow-shed     None    status   \n",
       "576    shadow-sky     None    status   \n",
       "\n",
       "                                             game_desc  \\\n",
       "0    Inflicts regular damage with no additional eff...   \n",
       "1          Has an increased chance for a critical hit.   \n",
       "2                          Hits 2-5 times in one turn.   \n",
       "3                          Hits 2-5 times in one turn.   \n",
       "4    Inflicts regular damage with no additional eff...   \n",
       "..                                                 ...   \n",
       "572           Prevents the target from leaving battle.   \n",
       "573         Lowers the target's evasion by two stages.   \n",
       "574                               Confuses the target.   \n",
       "575      Removes Light Screen, Reflect, and Safeguard.   \n",
       "576  Changes the weather to Shadow Sky for five turns.   \n",
       "\n",
       "                                         effect_chance  generation machines  \\\n",
       "0                             Inflicts regular damage.           1            \n",
       "1    Inflicts regular damage.  User's critical hit ...           1            \n",
       "2    Inflicts regular damage.  Hits 2–5 times in on...           1            \n",
       "3    Inflicts regular damage.  Hits 2–5 times in on...           1            \n",
       "4                             Inflicts regular damage.           1            \n",
       "..                                                 ...         ...      ...   \n",
       "572  The target cannot switch out normally.  Ignore...           3            \n",
       "573         Lowers the target's evasion by two stages.           3            \n",
       "574                               Confuses the target.           3            \n",
       "575  Removes the effects of light screen, reflect, ...           3            \n",
       "576  Changes the weather to Shadow Sky for five tur...           3            \n",
       "\n",
       "    crit_rate type power pp priority  \n",
       "0                                     \n",
       "1                                     \n",
       "2                                     \n",
       "3                                     \n",
       "4                                     \n",
       "..        ...  ...   ... ..      ...  \n",
       "572                                   \n",
       "573                                   \n",
       "574                                   \n",
       "575                                   \n",
       "576                                   \n",
       "\n",
       "[577 rows x 12 columns]"
      ]
     },
     "execution_count": 13,
     "metadata": {},
     "output_type": "execute_result"
    }
   ],
   "source": [
    "moves_df"
   ]
  },
  {
   "cell_type": "code",
   "execution_count": 14,
   "id": "67ec7d20-c09c-4022-94c9-fcd59c765998",
   "metadata": {},
   "outputs": [
    {
     "data": {
      "text/plain": [
       "'Has an increased chance for a critical hit.'"
      ]
     },
     "execution_count": 14,
     "metadata": {},
     "output_type": "execute_result"
    }
   ],
   "source": [
    "moves_df.loc[1, \"game_desc\"]"
   ]
  },
  {
   "cell_type": "code",
   "execution_count": 15,
   "id": "d0822e10-94b8-4bb2-81ad-7873e7592422",
   "metadata": {},
   "outputs": [
    {
     "data": {
      "text/plain": [
       "\"Inflicts regular damage.  User's critical hit rate is one level higher when using this move.\""
      ]
     },
     "execution_count": 15,
     "metadata": {},
     "output_type": "execute_result"
    }
   ],
   "source": [
    "moves_df.loc[1, \"effect_chance\"]"
   ]
  },
  {
   "cell_type": "code",
   "execution_count": 18,
   "id": "cbb51f0b-8efd-4a03-9078-6ea4b810c7a9",
   "metadata": {},
   "outputs": [
    {
     "data": {
      "text/html": [
       "<div>\n",
       "<style scoped>\n",
       "    .dataframe tbody tr th:only-of-type {\n",
       "        vertical-align: middle;\n",
       "    }\n",
       "\n",
       "    .dataframe tbody tr th {\n",
       "        vertical-align: top;\n",
       "    }\n",
       "\n",
       "    .dataframe thead th {\n",
       "        text-align: right;\n",
       "    }\n",
       "</style>\n",
       "<table border=\"1\" class=\"dataframe\">\n",
       "  <thead>\n",
       "    <tr style=\"text-align: right;\">\n",
       "      <th></th>\n",
       "      <th>name</th>\n",
       "    </tr>\n",
       "  </thead>\n",
       "  <tbody>\n",
       "    <tr>\n",
       "      <th>0</th>\n",
       "      <td>pound</td>\n",
       "    </tr>\n",
       "    <tr>\n",
       "      <th>1</th>\n",
       "      <td>karate-chop</td>\n",
       "    </tr>\n",
       "    <tr>\n",
       "      <th>2</th>\n",
       "      <td>double-slap</td>\n",
       "    </tr>\n",
       "    <tr>\n",
       "      <th>3</th>\n",
       "      <td>comet-punch</td>\n",
       "    </tr>\n",
       "    <tr>\n",
       "      <th>4</th>\n",
       "      <td>mega-punch</td>\n",
       "    </tr>\n",
       "    <tr>\n",
       "      <th>...</th>\n",
       "      <td>...</td>\n",
       "    </tr>\n",
       "    <tr>\n",
       "      <th>572</th>\n",
       "      <td>shadow-hold</td>\n",
       "    </tr>\n",
       "    <tr>\n",
       "      <th>573</th>\n",
       "      <td>shadow-mist</td>\n",
       "    </tr>\n",
       "    <tr>\n",
       "      <th>574</th>\n",
       "      <td>shadow-panic</td>\n",
       "    </tr>\n",
       "    <tr>\n",
       "      <th>575</th>\n",
       "      <td>shadow-shed</td>\n",
       "    </tr>\n",
       "    <tr>\n",
       "      <th>576</th>\n",
       "      <td>shadow-sky</td>\n",
       "    </tr>\n",
       "  </tbody>\n",
       "</table>\n",
       "<p>577 rows × 1 columns</p>\n",
       "</div>"
      ],
      "text/plain": [
       "             name\n",
       "0           pound\n",
       "1     karate-chop\n",
       "2     double-slap\n",
       "3     comet-punch\n",
       "4      mega-punch\n",
       "..            ...\n",
       "572   shadow-hold\n",
       "573   shadow-mist\n",
       "574  shadow-panic\n",
       "575   shadow-shed\n",
       "576    shadow-sky\n",
       "\n",
       "[577 rows x 1 columns]"
      ]
     },
     "execution_count": 18,
     "metadata": {},
     "output_type": "execute_result"
    }
   ],
   "source": [
    "move_names = moves_df[[\"name\"]].copy()\n",
    "move_names"
   ]
  },
  {
   "cell_type": "code",
   "execution_count": 19,
   "id": "cad60ba5",
   "metadata": {},
   "outputs": [],
   "source": [
    "move_names.to_csv(\"move_names.csv\")"
   ]
  },
  {
   "cell_type": "code",
   "execution_count": null,
   "id": "3f0fc450",
   "metadata": {},
   "outputs": [],
   "source": []
  }
 ],
 "metadata": {
  "kernelspec": {
   "display_name": "Python 3 (ipykernel)",
   "language": "python",
   "name": "python3"
  },
  "language_info": {
   "codemirror_mode": {
    "name": "ipython",
    "version": 3
   },
   "file_extension": ".py",
   "mimetype": "text/x-python",
   "name": "python",
   "nbconvert_exporter": "python",
   "pygments_lexer": "ipython3",
   "version": "3.10.4"
  }
 },
 "nbformat": 4,
 "nbformat_minor": 5
}
