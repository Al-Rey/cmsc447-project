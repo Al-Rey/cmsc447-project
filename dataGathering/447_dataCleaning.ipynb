{
 "cells": [
  {
   "cell_type": "markdown",
   "id": "6899fda6-c19c-4d62-b207-c28aa5b45cd2",
   "metadata": {},
   "source": [
    "This notebook exists to get the framework for how the data should be cleaned for each pokemon. Once that is done, either a new notebook or a new python script will be made with the code from this notebook to loop through all the pokemon and make the data for them"
   ]
  },
  {
   "cell_type": "markdown",
   "id": "4d8d903e-c66b-4cfa-8f95-80ce9e1482f1",
   "metadata": {},
   "source": [
    "# Pulling and Cleaning Data from the PokemonAPI"
   ]
  },
  {
   "cell_type": "code",
   "execution_count": 8,
   "id": "973f4ea2-51ca-4cd1-a8ec-40d49c1b066d",
   "metadata": {},
   "outputs": [],
   "source": [
    "# Libraries\n",
    "import pokebase as pb\n",
    "import requests\n",
    "import json\n",
    "import pandas as pd\n",
    "import numpy as np"
   ]
  },
  {
   "cell_type": "markdown",
   "id": "f773d59e-ad89-4968-b06f-7feae574545f",
   "metadata": {},
   "source": [
    "# Grab the data"
   ]
  },
  {
   "cell_type": "markdown",
   "id": "e45fe002-2d50-428a-8d4f-cec2fa3c74a9",
   "metadata": {},
   "source": [
    "Pull the pokemon data from the API"
   ]
  },
  {
   "cell_type": "code",
   "execution_count": 84,
   "id": "b5774df0-48ec-4096-be9f-8b10c15368cc",
   "metadata": {
    "tags": []
   },
   "outputs": [
    {
     "name": "stdout",
     "output_type": "stream",
     "text": [
      "dict_keys(['count', 'next', 'previous', 'results'])\n"
     ]
    }
   ],
   "source": [
    "query = requests.get('https://pokeapi.co/api/v2/pokemon/')\n",
    "query_data = json.loads(query.text)\n",
    "print(query_data.keys())"
   ]
  },
  {
   "cell_type": "code",
   "execution_count": 85,
   "id": "95301ae3-2f38-427a-b93a-3415b45a15eb",
   "metadata": {},
   "outputs": [],
   "source": [
    "# pokemon_keys_remove = [\"base_experience\", \"held_items\", \"location_area_encounters\", \"game_indices\"] \n",
    "pokemon_data = query_data[\"results\"]"
   ]
  },
  {
   "cell_type": "markdown",
   "id": "b34d0cad-ebc4-4ed0-98be-ad43629c58f5",
   "metadata": {},
   "source": [
    "# Data Exploration"
   ]
  },
  {
   "cell_type": "code",
   "execution_count": 86,
   "id": "412aa66d-740c-4a54-b696-0d81c4742790",
   "metadata": {},
   "outputs": [
    {
     "data": {
      "text/plain": [
       "dict_keys(['name', 'url'])"
      ]
     },
     "execution_count": 86,
     "metadata": {},
     "output_type": "execute_result"
    }
   ],
   "source": [
    "test = pokemon_data[0]\n",
    "test.keys()"
   ]
  },
  {
   "cell_type": "code",
   "execution_count": 87,
   "id": "4ec4c356-9356-4fb6-b315-4df32d0a73c0",
   "metadata": {},
   "outputs": [
    {
     "name": "stdout",
     "output_type": "stream",
     "text": [
      "bulbasaur\n",
      "dict_keys(['abilities', 'base_experience', 'forms', 'game_indices', 'height', 'held_items', 'id', 'is_default', 'location_area_encounters', 'moves', 'name', 'order', 'past_types', 'species', 'sprites', 'stats', 'types', 'weight'])\n"
     ]
    }
   ],
   "source": [
    "print(test[\"name\"])\n",
    "\n",
    "pokemon_query = requests.get(test[\"url\"])\n",
    "pokemon_query_data = json.loads(pokemon_query.text)\n",
    "print(pokemon_query_data.keys())"
   ]
  },
  {
   "cell_type": "code",
   "execution_count": 88,
   "id": "374ba5f5-8524-48bc-a765-a900e3d367c3",
   "metadata": {},
   "outputs": [
    {
     "data": {
      "text/plain": [
       "[{'game_index': 153,\n",
       "  'version': {'name': 'red', 'url': 'https://pokeapi.co/api/v2/version/1/'}},\n",
       " {'game_index': 153,\n",
       "  'version': {'name': 'blue', 'url': 'https://pokeapi.co/api/v2/version/2/'}},\n",
       " {'game_index': 153,\n",
       "  'version': {'name': 'yellow',\n",
       "   'url': 'https://pokeapi.co/api/v2/version/3/'}},\n",
       " {'game_index': 1,\n",
       "  'version': {'name': 'gold', 'url': 'https://pokeapi.co/api/v2/version/4/'}},\n",
       " {'game_index': 1,\n",
       "  'version': {'name': 'silver',\n",
       "   'url': 'https://pokeapi.co/api/v2/version/5/'}},\n",
       " {'game_index': 1,\n",
       "  'version': {'name': 'crystal',\n",
       "   'url': 'https://pokeapi.co/api/v2/version/6/'}},\n",
       " {'game_index': 1,\n",
       "  'version': {'name': 'ruby', 'url': 'https://pokeapi.co/api/v2/version/7/'}},\n",
       " {'game_index': 1,\n",
       "  'version': {'name': 'sapphire',\n",
       "   'url': 'https://pokeapi.co/api/v2/version/8/'}},\n",
       " {'game_index': 1,\n",
       "  'version': {'name': 'emerald',\n",
       "   'url': 'https://pokeapi.co/api/v2/version/9/'}},\n",
       " {'game_index': 1,\n",
       "  'version': {'name': 'firered',\n",
       "   'url': 'https://pokeapi.co/api/v2/version/10/'}},\n",
       " {'game_index': 1,\n",
       "  'version': {'name': 'leafgreen',\n",
       "   'url': 'https://pokeapi.co/api/v2/version/11/'}},\n",
       " {'game_index': 1,\n",
       "  'version': {'name': 'diamond',\n",
       "   'url': 'https://pokeapi.co/api/v2/version/12/'}},\n",
       " {'game_index': 1,\n",
       "  'version': {'name': 'pearl',\n",
       "   'url': 'https://pokeapi.co/api/v2/version/13/'}},\n",
       " {'game_index': 1,\n",
       "  'version': {'name': 'platinum',\n",
       "   'url': 'https://pokeapi.co/api/v2/version/14/'}},\n",
       " {'game_index': 1,\n",
       "  'version': {'name': 'heartgold',\n",
       "   'url': 'https://pokeapi.co/api/v2/version/15/'}},\n",
       " {'game_index': 1,\n",
       "  'version': {'name': 'soulsilver',\n",
       "   'url': 'https://pokeapi.co/api/v2/version/16/'}},\n",
       " {'game_index': 1,\n",
       "  'version': {'name': 'black',\n",
       "   'url': 'https://pokeapi.co/api/v2/version/17/'}},\n",
       " {'game_index': 1,\n",
       "  'version': {'name': 'white',\n",
       "   'url': 'https://pokeapi.co/api/v2/version/18/'}},\n",
       " {'game_index': 1,\n",
       "  'version': {'name': 'black-2',\n",
       "   'url': 'https://pokeapi.co/api/v2/version/21/'}},\n",
       " {'game_index': 1,\n",
       "  'version': {'name': 'white-2',\n",
       "   'url': 'https://pokeapi.co/api/v2/version/22/'}}]"
      ]
     },
     "execution_count": 88,
     "metadata": {},
     "output_type": "execute_result"
    }
   ],
   "source": [
    "pokemon_query_data[\"game_indices\"]"
   ]
  },
  {
   "cell_type": "markdown",
   "id": "cb35b966-beb3-4d25-8c7b-ac2a834d43cd",
   "metadata": {},
   "source": [
    "# Clean the Data\n",
    "Make the Dataframe. For now I am not sure how to handle the evolutionary data or the image data, so for now those columns will be omitted from the table"
   ]
  },
  {
   "cell_type": "code",
   "execution_count": 83,
   "id": "c9b469f6-4967-48c3-8aa6-17141122f4df",
   "metadata": {},
   "outputs": [
    {
     "data": {
      "text/html": [
       "<div>\n",
       "<style scoped>\n",
       "    .dataframe tbody tr th:only-of-type {\n",
       "        vertical-align: middle;\n",
       "    }\n",
       "\n",
       "    .dataframe tbody tr th {\n",
       "        vertical-align: top;\n",
       "    }\n",
       "\n",
       "    .dataframe thead th {\n",
       "        text-align: right;\n",
       "    }\n",
       "</style>\n",
       "<table border=\"1\" class=\"dataframe\">\n",
       "  <thead>\n",
       "    <tr style=\"text-align: right;\">\n",
       "      <th></th>\n",
       "      <th>name</th>\n",
       "      <th>pokedex_id</th>\n",
       "      <th>attack</th>\n",
       "      <th>special-attack</th>\n",
       "      <th>defense</th>\n",
       "      <th>special-defense</th>\n",
       "      <th>speed</th>\n",
       "      <th>hp</th>\n",
       "      <th>type1</th>\n",
       "      <th>type2</th>\n",
       "      <th>list_of_moves</th>\n",
       "      <th>ability_name</th>\n",
       "      <th>height</th>\n",
       "      <th>weight</th>\n",
       "      <th>generations</th>\n",
       "    </tr>\n",
       "  </thead>\n",
       "  <tbody>\n",
       "  </tbody>\n",
       "</table>\n",
       "</div>"
      ],
      "text/plain": [
       "Empty DataFrame\n",
       "Columns: [name, pokedex_id, attack, special-attack, defense, special-defense, speed, hp, type1, type2, list_of_moves, ability_name, height, weight, generations]\n",
       "Index: []"
      ]
     },
     "execution_count": 83,
     "metadata": {},
     "output_type": "execute_result"
    }
   ],
   "source": [
    "columns_needed = [\"name\",\"pokedex_id\",\"attack\", \"special-attack\", \"defense\", \"special-defense\", \"speed\", \"hp\", \"type1\", \"type2\", \"list_of_moves\", \"ability_name\", \"height\", \"weight\", \"generations\"]\n",
    "\n",
    "game_gen = {\n",
    "    \"red\" : 1,\n",
    "    \"blue\" : 1,\n",
    "    \"yellow\" : 1,\n",
    "    \"gold\" : 2,\n",
    "    \"silver\" : 2,\n",
    "    \"crystal\" : 2,\n",
    "}"
   ]
  },
  {
   "cell_type": "code",
   "execution_count": null,
   "id": "5a151ac2-9124-4392-80b8-446935b881e4",
   "metadata": {},
   "outputs": [],
   "source": [
    "pokemon_df = pd.DataFrame(columns=columns_needed)\n",
    "\n",
    "for pokemon in pokemon_data:\n",
    "    # pull the page data that we need\n",
    "    pokemon_query = requests.get(pokemon[\"url\"])\n",
    "    pokemon_query_data = json.loads(pokemon_query.text)\n",
    "    \n",
    "    dex = -1\n",
    "    for dexId in pokemon_query_data[\"game_indices\"]:\n",
    "        if \"black-2\" in dexId[\"version\"][\"name\"] or \"white-2\" in dexId[\"version\"][\"name\"]:\n",
    "                dex = dexId[\"game_index\"]\n",
    "                break\n",
    "        elif \"black\" in dexId[\"version\"][\"name\"] or \"white\" in dexId[\"version\"][\"name\"]:\n",
    "                dex = dexId[\"game_index\"]\n",
    "                break\n",
    "                \n",
    "    if dex != -1: # okay so there appears to be no easy way to chck the pokemon's generation so we are doing this insteada\n",
    "        temp = [\"\"] * len(columns_needed)\n",
    "        \n",
    "        \n",
    "    \n",
    "    \n",
    "    "
   ]
  },
  {
   "cell_type": "markdown",
   "id": "67539901-e561-4957-b6e5-eac48e47c032",
   "metadata": {},
   "source": [
    "# Parse Testing"
   ]
  },
  {
   "cell_type": "code",
   "execution_count": 15,
   "id": "32e718b8-eaba-4df5-aafd-bb1770886537",
   "metadata": {},
   "outputs": [
    {
     "name": "stdout",
     "output_type": "stream",
     "text": [
      "{'name': 'clefairy', 'url': 'https://pokeapi.co/api/v2/pokemon-species/35/'}\n"
     ]
    }
   ],
   "source": [
    "# get pokemon name\n",
    "info_holder = pokemon_data[\"species\"]\n",
    "print(info_holder)\n",
    "pokemon_name = info_holder[\"name\"]\n",
    "temp_dic[\"name\"] = pokemon_name\n",
    "temp_dic[\"pokedex_id\"] = pokemon_data[\"id\"]"
   ]
  },
  {
   "cell_type": "markdown",
   "id": "4bad0cd4-c33e-4d61-976b-f88d3aa1eeb8",
   "metadata": {},
   "source": [
    "## Base Stats\n",
    "Get the pokemon's base stats. This entry is another dictionary  with the `base_stat` which tells us the base stat, `effort` which is realted to EV/IV training, and `stat` which is another dicitonary with the name of the stat and the URL"
   ]
  },
  {
   "cell_type": "code",
   "execution_count": 16,
   "id": "539c9463-51e1-40aa-8a6f-1d2575ac8f75",
   "metadata": {
    "tags": []
   },
   "outputs": [
    {
     "data": {
      "text/plain": [
       "[{'base_stat': 70,\n",
       "  'effort': 2,\n",
       "  'stat': {'name': 'hp', 'url': 'https://pokeapi.co/api/v2/stat/1/'}},\n",
       " {'base_stat': 45,\n",
       "  'effort': 0,\n",
       "  'stat': {'name': 'attack', 'url': 'https://pokeapi.co/api/v2/stat/2/'}},\n",
       " {'base_stat': 48,\n",
       "  'effort': 0,\n",
       "  'stat': {'name': 'defense', 'url': 'https://pokeapi.co/api/v2/stat/3/'}},\n",
       " {'base_stat': 60,\n",
       "  'effort': 0,\n",
       "  'stat': {'name': 'special-attack',\n",
       "   'url': 'https://pokeapi.co/api/v2/stat/4/'}},\n",
       " {'base_stat': 65,\n",
       "  'effort': 0,\n",
       "  'stat': {'name': 'special-defense',\n",
       "   'url': 'https://pokeapi.co/api/v2/stat/5/'}},\n",
       " {'base_stat': 35,\n",
       "  'effort': 0,\n",
       "  'stat': {'name': 'speed', 'url': 'https://pokeapi.co/api/v2/stat/6/'}}]"
      ]
     },
     "execution_count": 16,
     "metadata": {},
     "output_type": "execute_result"
    }
   ],
   "source": [
    "info_holder = pokemon_data[\"stats\"]\n",
    "info_holder"
   ]
  },
  {
   "cell_type": "code",
   "execution_count": 17,
   "id": "d3b91dc0-b2fd-444c-ae21-4c7c2f7b8850",
   "metadata": {},
   "outputs": [],
   "source": [
    "for entry in info_holder: # get the base stat information\n",
    "    stat_name = entry[\"stat\"][\"name\"]\n",
    "    temp_dic[stat_name] = entry[\"base_stat\"]            "
   ]
  },
  {
   "cell_type": "code",
   "execution_count": 18,
   "id": "be2629de-6f5f-43e3-a280-7eb821645790",
   "metadata": {
    "tags": []
   },
   "outputs": [
    {
     "data": {
      "text/plain": [
       "{'name': 'clefairy',\n",
       " 'pokedex_id': 35,\n",
       " 'attack': 45,\n",
       " 'special-attack': 60,\n",
       " 'defense': 48,\n",
       " 'special-defense': 65,\n",
       " 'speed': 35,\n",
       " 'hp': 70,\n",
       " 'type1': -1,\n",
       " 'type2': -1,\n",
       " 'list_of_moves': -1,\n",
       " 'ability_name': -1,\n",
       " 'height': -1,\n",
       " 'weight': -1,\n",
       " 'generations': -1}"
      ]
     },
     "execution_count": 18,
     "metadata": {},
     "output_type": "execute_result"
    }
   ],
   "source": [
    "temp_dic"
   ]
  },
  {
   "cell_type": "markdown",
   "id": "333be486-6aba-4557-89d1-391f87ef19ec",
   "metadata": {},
   "source": [
    "## Pokemon Type Information"
   ]
  },
  {
   "cell_type": "code",
   "execution_count": 19,
   "id": "f22bfe10-adc4-46a9-90f3-bf2f612552a9",
   "metadata": {
    "tags": []
   },
   "outputs": [],
   "source": [
    "# Get the type information of a pokemon\n",
    "# pokemon_data[\"types\"]\n",
    "two_types = False\n",
    "count = 0\n",
    "for poke_type in pokemon_data[\"types\"]:\n",
    "    count += 1\n",
    "    t = \"type\" + str(count)\n",
    "    temp_dic[t] = poke_type[\"type\"][\"name\"]\n",
    "    \n",
    "if count == 1: # if a pokemon only has one type, then make the second item NaN\n",
    "    temp_dic[\"type2\"] = np.nan"
   ]
  },
  {
   "cell_type": "code",
   "execution_count": 20,
   "id": "b59b66d4-54d7-4b7f-93fe-5fc378167997",
   "metadata": {
    "tags": []
   },
   "outputs": [
    {
     "data": {
      "text/plain": [
       "{'name': 'clefairy',\n",
       " 'pokedex_id': 35,\n",
       " 'attack': 45,\n",
       " 'special-attack': 60,\n",
       " 'defense': 48,\n",
       " 'special-defense': 65,\n",
       " 'speed': 35,\n",
       " 'hp': 70,\n",
       " 'type1': 'fairy',\n",
       " 'type2': nan,\n",
       " 'list_of_moves': -1,\n",
       " 'ability_name': -1,\n",
       " 'height': -1,\n",
       " 'weight': -1,\n",
       " 'generations': -1}"
      ]
     },
     "execution_count": 20,
     "metadata": {},
     "output_type": "execute_result"
    }
   ],
   "source": [
    "temp_dic"
   ]
  },
  {
   "cell_type": "code",
   "execution_count": 21,
   "id": "5336970f-9685-4009-b15f-300a8089bad1",
   "metadata": {},
   "outputs": [],
   "source": [
    "temp_dic[\"height\"] = pokemon_data[\"height\"]\n",
    "temp_dic[\"weight\"] = pokemon_data[\"weight\"]"
   ]
  },
  {
   "cell_type": "code",
   "execution_count": 22,
   "id": "185fa7d0-c019-4240-b878-bdbd2bfb7cfe",
   "metadata": {
    "tags": []
   },
   "outputs": [
    {
     "data": {
      "text/plain": [
       "{'name': 'clefairy',\n",
       " 'pokedex_id': 35,\n",
       " 'attack': 45,\n",
       " 'special-attack': 60,\n",
       " 'defense': 48,\n",
       " 'special-defense': 65,\n",
       " 'speed': 35,\n",
       " 'hp': 70,\n",
       " 'type1': 'fairy',\n",
       " 'type2': nan,\n",
       " 'list_of_moves': -1,\n",
       " 'ability_name': -1,\n",
       " 'height': 6,\n",
       " 'weight': 75,\n",
       " 'generations': -1}"
      ]
     },
     "execution_count": 22,
     "metadata": {},
     "output_type": "execute_result"
    }
   ],
   "source": [
    "temp_dic"
   ]
  },
  {
   "cell_type": "markdown",
   "id": "1c9509c8-ff6e-4724-96f6-b09d4f25dbd3",
   "metadata": {},
   "source": [
    "## Move Infomration\n",
    "For the pokemon moves we are just storing the following information for each pokemon:\n",
    "    - a list of all the moves that the pokemon can learn from level-up\n",
    "    - only incldue things up to Gen 5 (Black, White, Black 2, and White 2)\n",
    "    \n",
    "Indicator for Black and white: `black-white`\n",
    "\n",
    "We will be making a list of tuples. Each tuplue will will have a string that is the name of the move, and an integer which is the level that the pokemon can learn the move"
   ]
  },
  {
   "cell_type": "code",
   "execution_count": 54,
   "id": "e99dd66a-ec22-413e-b0c8-d117c2981f30",
   "metadata": {},
   "outputs": [
    {
     "name": "stdout",
     "output_type": "stream",
     "text": [
      "dict_keys(['move', 'version_group_details'])\n",
      "{'name': 'pound', 'url': 'https://pokeapi.co/api/v2/move/1/'}\n",
      "dict_keys(['level_learned_at', 'move_learn_method', 'version_group'])\n",
      "length of list in version_group_details 20\n",
      "{'name': 'black-white', 'url': 'https://pokeapi.co/api/v2/version-group/11/'}\n",
      "1\n"
     ]
    }
   ],
   "source": [
    "# eploration cell, try and figure out how this dictionary is structured\n",
    "# print(pokemon_data[\"moves\"][0])\n",
    "print(pokemon_data[\"moves\"][0].keys())\n",
    "print(pokemon_data[\"moves\"][0][\"move\"])\n",
    "print(pokemon_data[\"moves\"][0][\"version_group_details\"][0].keys())\n",
    "print(\"length of list in version_group_details\", len(pokemon_data[\"moves\"][0][\"version_group_details\"]))\n",
    "print(pokemon_data[\"moves\"][0][\"version_group_details\"][10][\"version_group\"])\n",
    "print(pokemon_data[\"moves\"][0][\"version_group_details\"][10][\"level_learned_at\"])"
   ]
  },
  {
   "cell_type": "code",
   "execution_count": 62,
   "id": "8842e377-4550-483f-a96e-97e6c9a20796",
   "metadata": {},
   "outputs": [],
   "source": [
    "# moves by level up\n",
    "latest_game = \"black-white\"\n",
    "learnable_moves = []\n",
    "for move in pokemon_data[\"moves\"]:\n",
    "    name = move[\"move\"][\"name\"]\n",
    "    level_learned = -1\n",
    "    \n",
    "    for version in move[\"version_group_details\"]: ## loop through all the game versions until you get to black and white, then use that infomration\n",
    "        # print(version[\"move_learn_method\"])\n",
    "        if version[\"version_group\"][\"name\"] == latest_game and version[\"move_learn_method\"][\"name\"] == \"level-up\":\n",
    "            level_learned = version[\"level_learned_at\"]\n",
    "            break\n",
    "    \n",
    "    if level_learned != -1:\n",
    "        learnable_moves.append((name, level_learned))"
   ]
  },
  {
   "cell_type": "code",
   "execution_count": 63,
   "id": "0e1d78c4-84f1-43b2-b497-9f5869657413",
   "metadata": {},
   "outputs": [
    {
     "data": {
      "text/plain": [
       "[('pound', 1),\n",
       " ('double-slap', 10),\n",
       " ('growl', 1),\n",
       " ('sing', 7),\n",
       " ('minimize', 19),\n",
       " ('defense-curl', 13),\n",
       " ('light-screen', 46),\n",
       " ('metronome', 34),\n",
       " ('encore', 4),\n",
       " ('moonlight', 40),\n",
       " ('follow-me', 16),\n",
       " ('meteor-mash', 55),\n",
       " ('cosmic-power', 28),\n",
       " ('gravity', 37),\n",
       " ('wake-up-slap', 22),\n",
       " ('healing-wish', 49),\n",
       " ('lucky-chant', 31),\n",
       " ('after-you', 52),\n",
       " ('stored-power', 43),\n",
       " ('bestow', 25)]"
      ]
     },
     "execution_count": 63,
     "metadata": {},
     "output_type": "execute_result"
    }
   ],
   "source": [
    "learnable_moves"
   ]
  },
  {
   "cell_type": "code",
   "execution_count": 64,
   "id": "d084afa1-81fc-4f07-b78c-2401df16d4a4",
   "metadata": {},
   "outputs": [],
   "source": [
    "temp_dic[\"list_of_moves\"] = learnable_moves"
   ]
  },
  {
   "cell_type": "code",
   "execution_count": 65,
   "id": "2b47ccc7-c64f-4085-ba29-8efea32db860",
   "metadata": {},
   "outputs": [
    {
     "data": {
      "text/plain": [
       "{'name': 'clefairy',\n",
       " 'pokedex_id': 35,\n",
       " 'attack': 45,\n",
       " 'special-attack': 60,\n",
       " 'defense': 48,\n",
       " 'special-defense': 65,\n",
       " 'speed': 35,\n",
       " 'hp': 70,\n",
       " 'type1': 'fairy',\n",
       " 'type2': nan,\n",
       " 'list_of_moves': [('pound', 1),\n",
       "  ('double-slap', 10),\n",
       "  ('growl', 1),\n",
       "  ('sing', 7),\n",
       "  ('minimize', 19),\n",
       "  ('defense-curl', 13),\n",
       "  ('light-screen', 46),\n",
       "  ('metronome', 34),\n",
       "  ('encore', 4),\n",
       "  ('moonlight', 40),\n",
       "  ('follow-me', 16),\n",
       "  ('meteor-mash', 55),\n",
       "  ('cosmic-power', 28),\n",
       "  ('gravity', 37),\n",
       "  ('wake-up-slap', 22),\n",
       "  ('healing-wish', 49),\n",
       "  ('lucky-chant', 31),\n",
       "  ('after-you', 52),\n",
       "  ('stored-power', 43),\n",
       "  ('bestow', 25)],\n",
       " 'ability_name': -1,\n",
       " 'height': 6,\n",
       " 'weight': 75,\n",
       " 'generations': -1}"
      ]
     },
     "execution_count": 65,
     "metadata": {},
     "output_type": "execute_result"
    }
   ],
   "source": [
    "temp_dic"
   ]
  },
  {
   "cell_type": "markdown",
   "id": "88749fe4-a9bf-462a-ba31-9c2eb66050e0",
   "metadata": {},
   "source": [
    "## Abilities Information\n",
    "We will only be getting the name of the abilities and if they are hidden.\n",
    "\n",
    "the tuples in the list will look like `(str, bool)` wheret the string is the name of the ability and bool is whether the ability is a hidden ability or not. `True` means that the ability is hidden and `False` means that the ability is not hidden."
   ]
  },
  {
   "cell_type": "code",
   "execution_count": 68,
   "id": "0a06fc6f-a6e7-417a-bd17-a7d74e6ee8ea",
   "metadata": {},
   "outputs": [
    {
     "name": "stdout",
     "output_type": "stream",
     "text": [
      "[{'ability': {'name': 'cute-charm', 'url': 'https://pokeapi.co/api/v2/ability/56/'}, 'is_hidden': False, 'slot': 1}, {'ability': {'name': 'magic-guard', 'url': 'https://pokeapi.co/api/v2/ability/98/'}, 'is_hidden': False, 'slot': 2}, {'ability': {'name': 'friend-guard', 'url': 'https://pokeapi.co/api/v2/ability/132/'}, 'is_hidden': True, 'slot': 3}]\n",
      "3\n"
     ]
    }
   ],
   "source": [
    "# eploration cell, try and figure out how this dictionary is structured\n",
    "# print(pokemon_data[\"abilities\"][0])\n",
    "print(pokemon_data[\"abilities\"])\n",
    "print(len(pokemon_data[\"abilities\"]))"
   ]
  },
  {
   "cell_type": "code",
   "execution_count": 73,
   "id": "f6cd6823-f953-4be7-99b6-db334238fdeb",
   "metadata": {},
   "outputs": [],
   "source": [
    "ability_names = pd.read_csv(\"ability_data.csv\")\n",
    "ability_names = ability_names[\"name\"].tolist()"
   ]
  },
  {
   "cell_type": "code",
   "execution_count": 75,
   "id": "caa0886c-4b05-405d-a7b5-ba1ed3f24abf",
   "metadata": {},
   "outputs": [],
   "source": [
    "possible_abilities = []\n",
    "for ability in pokemon_data[\"abilities\"]:\n",
    "    if ability[\"ability\"][\"name\"] in ability_names:\n",
    "        name = ability[\"ability\"][\"name\"]\n",
    "        is_hidden = ability[\"is_hidden\"]\n",
    "\n",
    "        possible_abilities.append((name, is_hidden))    "
   ]
  },
  {
   "cell_type": "code",
   "execution_count": 76,
   "id": "203e542d-cb59-4739-b812-ee7e6c0660fc",
   "metadata": {},
   "outputs": [
    {
     "name": "stdout",
     "output_type": "stream",
     "text": [
      "[('cute-charm', False), ('magic-guard', False), ('friend-guard', True)]\n"
     ]
    }
   ],
   "source": [
    "print(possible_abilities)"
   ]
  },
  {
   "cell_type": "code",
   "execution_count": 77,
   "id": "a7c07b38-55d3-4eb7-9f97-3ab900ef512a",
   "metadata": {},
   "outputs": [],
   "source": [
    "temp_dic[\"ability_name\"] = possible_abilities"
   ]
  },
  {
   "cell_type": "code",
   "execution_count": null,
   "id": "95907d81-8e02-4ebb-8880-7804f0704b8f",
   "metadata": {},
   "outputs": [
    {
     "data": {
      "text/plain": [
       "{'name': 'clefairy',\n",
       " 'pokedex_id': 35,\n",
       " 'attack': 45,\n",
       " 'special-attack': 60,\n",
       " 'defense': 48,\n",
       " 'special-defense': 65,\n",
       " 'speed': 35,\n",
       " 'hp': 70,\n",
       " 'type1': 'fairy',\n",
       " 'type2': nan,\n",
       " 'list_of_moves': [('pound', 1),\n",
       "  ('double-slap', 10),\n",
       "  ('growl', 1),\n",
       "  ('sing', 7),\n",
       "  ('minimize', 19),\n",
       "  ('defense-curl', 13),\n",
       "  ('light-screen', 46),\n",
       "  ('metronome', 34),\n",
       "  ('encore', 4),\n",
       "  ('moonlight', 40),\n",
       "  ('follow-me', 16),\n",
       "  ('meteor-mash', 55),\n",
       "  ('cosmic-power', 28),\n",
       "  ('gravity', 37),\n",
       "  ('wake-up-slap', 22),\n",
       "  ('healing-wish', 49),\n",
       "  ('lucky-chant', 31),\n",
       "  ('after-you', 52),\n",
       "  ('stored-power', 43),\n",
       "  ('bestow', 25)],\n",
       " 'ability_name': [('cute-charm', False),\n",
       "  ('magic-guard', False),\n",
       "  ('friend-guard', True)],\n",
       " 'height': 6,\n",
       " 'weight': 75,\n",
       " 'generations': -1}"
      ]
     },
     "execution_count": 78,
     "metadata": {},
     "output_type": "execute_result"
    }
   ],
   "source": [
    "temp_dic"
   ]
  },
  {
   "cell_type": "markdown",
   "id": "f67647cb-7615-4528-a162-e52b6c647070",
   "metadata": {},
   "source": [
    "## Get the Generation Information"
   ]
  },
  {
   "cell_type": "code",
   "execution_count": null,
   "id": "d76cacc3-3510-45a1-9157-b73f4d439345",
   "metadata": {},
   "outputs": [],
   "source": []
  }
 ],
 "metadata": {
  "kernelspec": {
   "display_name": "Python 3",
   "language": "python",
   "name": "python3"
  },
  "language_info": {
   "codemirror_mode": {
    "name": "ipython",
    "version": 3
   },
   "file_extension": ".py",
   "mimetype": "text/x-python",
   "name": "python",
   "nbconvert_exporter": "python",
   "pygments_lexer": "ipython3",
   "version": "3.7.4"
  }
 },
 "nbformat": 4,
 "nbformat_minor": 5
}
